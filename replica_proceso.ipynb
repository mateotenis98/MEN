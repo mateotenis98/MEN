{
 "cells": [
  {
   "cell_type": "markdown",
   "metadata": {},
   "source": [
    "### Inicio"
   ]
  },
  {
   "cell_type": "code",
   "execution_count": 40,
   "metadata": {},
   "outputs": [],
   "source": [
    "from datetime import date\n",
    "import os\n",
    "os.environ[\"AWS_PROFILE\"] = \"men\"\n",
    "os.environ['AWS_DEFAULT_REGION'] = 'us-east-1'"
   ]
  },
  {
   "cell_type": "code",
   "execution_count": 41,
   "metadata": {},
   "outputs": [],
   "source": [
    "params = {\n",
    "    \"class_name\":\"Cocina\",\n",
    "    \"target_audience_edu_level\":\"Preescolar\",\n",
    "    \"grade\":\"no aplica\"\n",
    "}"
   ]
  },
  {
   "cell_type": "markdown",
   "metadata": {},
   "source": [
    "### Retriever"
   ]
  },
  {
   "cell_type": "code",
   "execution_count": 42,
   "metadata": {},
   "outputs": [],
   "source": [
    "from langchain_aws.retrievers.bedrock import AmazonKnowledgeBasesRetriever"
   ]
  },
  {
   "cell_type": "code",
   "execution_count": 43,
   "metadata": {},
   "outputs": [],
   "source": [
    "kb_context_id = \"BC3JS4SRQG\"\n",
    "kb_result_id = \"MQPBML7IQ2\"\n",
    "\n",
    "# Base knowledge\n",
    "retriever_context = AmazonKnowledgeBasesRetriever(\n",
    "    knowledge_base_id = kb_context_id,\n",
    "    retrieval_config = {\n",
    "        \"vectorSearchConfiguration\": {\n",
    "            \"numberOfResults\": 4,\n",
    "            'overrideSearchType': \"SEMANTIC\" # optional\n",
    "        }\n",
    "    },\n",
    ")\n",
    "\n",
    "retriever_result = AmazonKnowledgeBasesRetriever(\n",
    "    knowledge_base_id = kb_result_id,\n",
    "    retrieval_config = {\n",
    "        \"vectorSearchConfiguration\": {\n",
    "            \"numberOfResults\": 4,\n",
    "            'overrideSearchType': \"SEMANTIC\" # optional\n",
    "        }\n",
    "    },\n",
    ")"
   ]
  },
  {
   "cell_type": "code",
   "execution_count": 44,
   "metadata": {},
   "outputs": [],
   "source": [
    "def get_retriver_docs(docs):    \n",
    "    context = \"\\n\".join([doc.page_content for doc in docs])  # Iteramos de forma síncrona si 'docs' es una lista\n",
    "    return context"
   ]
  },
  {
   "cell_type": "code",
   "execution_count": 45,
   "metadata": {},
   "outputs": [],
   "source": [
    "async def get_retriver_context(params):\n",
    "    docs = await retriever_context.ainvoke(params)\n",
    "    return get_retriver_docs(docs)"
   ]
  },
  {
   "cell_type": "code",
   "execution_count": 46,
   "metadata": {},
   "outputs": [],
   "source": [
    "async def get_retriver_result(params):\n",
    "    docs = await retriever_result.ainvoke(params)\n",
    "    return get_retriver_docs(docs)"
   ]
  },
  {
   "cell_type": "markdown",
   "metadata": {},
   "source": [
    "### Prompts"
   ]
  },
  {
   "cell_type": "code",
   "execution_count": 47,
   "metadata": {},
   "outputs": [],
   "source": [
    "from langchain.prompts import PromptTemplate"
   ]
  },
  {
   "cell_type": "code",
   "execution_count": 48,
   "metadata": {},
   "outputs": [],
   "source": [
    "def get_relevant_info():\n",
    "    with open(\"1_get_relevant_info.sty\", \"r\", encoding=\"utf-8\") as file:\n",
    "        prompt_content = file.read()\n",
    "    \n",
    "    return PromptTemplate(\n",
    "        input_variables=[\"class_name\"],\n",
    "        template=prompt_content,\n",
    "    )\n",
    "\n"
   ]
  },
  {
   "cell_type": "code",
   "execution_count": 49,
   "metadata": {},
   "outputs": [],
   "source": [
    "def get_base_prompt():\n",
    "    with open(\"2_get_base_prompt.sty\", \"r\", encoding=\"utf-8\") as file:\n",
    "        prompt_content = file.read()\n",
    "\n",
    "    return PromptTemplate(\n",
    "        input_variables=[\"target_audience_edu_level\", \"class_name\", \"grade\", \"date\", \"context\", \"learning_result\"],\n",
    "        template=prompt_content\n",
    "    )"
   ]
  },
  {
   "cell_type": "code",
   "execution_count": 50,
   "metadata": {},
   "outputs": [],
   "source": [
    "def get_preschool_able_prompt():\n",
    "    with open(\"3_get_preschool_able_prompt.sty\", \"r\", encoding=\"utf-8\") as file:\n",
    "        prompt_content = file.read()\n",
    "    \n",
    "    return PromptTemplate(\n",
    "            input_variables=[\"result_1\"],\n",
    "            template=prompt_content\n",
    "        )"
   ]
  },
  {
   "cell_type": "code",
   "execution_count": 51,
   "metadata": {},
   "outputs": [],
   "source": [
    "def get_key_concepts():\n",
    "    with open(\"4_get_key_concepts.sty\", \"r\", encoding=\"utf-8\") as file:\n",
    "        prompt_content = file.read()\n",
    "    \n",
    "    return PromptTemplate(\n",
    "            input_variables=[\"result_1\", \"target_audience_edu_level\", \"class_name\", \"grade\", \"context\"],\n",
    "            template=prompt_content\n",
    "        )"
   ]
  },
  {
   "cell_type": "code",
   "execution_count": 52,
   "metadata": {},
   "outputs": [],
   "source": [
    "def get_activities_prompt():\n",
    "    with open(\"5_get_activities_prompt.sty\", \"r\", encoding=\"utf-8\") as file:\n",
    "        prompt_content = file.read()\n",
    "    \n",
    "    return PromptTemplate(\n",
    "            input_variables=[\"result_1_2\", \"target_audience_edu_level\", \"class_name\", \"grade\", \"context\", \"dba\"],\n",
    "            template=prompt_content\n",
    "        )"
   ]
  },
  {
   "cell_type": "code",
   "execution_count": 53,
   "metadata": {},
   "outputs": [],
   "source": [
    "def get_exam_prompt():\n",
    "    with open(\"6_get_exam_prompt.sty\", \"r\", encoding=\"utf-8\") as file:\n",
    "        prompt_content = file.read()\n",
    "    \n",
    "    return PromptTemplate(\n",
    "            input_variables=[\"prompt\"],\n",
    "            template=prompt_content\n",
    "        )"
   ]
  },
  {
   "cell_type": "code",
   "execution_count": 54,
   "metadata": {},
   "outputs": [],
   "source": [
    "def get_coherence_prompt():\n",
    "    with open(\"get_coherence_prompt.sty\", \"r\", encoding=\"utf-8\") as file:\n",
    "        prompt_content = file.read()\n",
    "    \n",
    "    return PromptTemplate(\n",
    "        input_variables=[\"result_1\", \"result_2\", \"result_3\", \"result_4\", \"target_audience_edu_level\"],\n",
    "        template=prompt_content,\n",
    "    )"
   ]
  },
  {
   "cell_type": "markdown",
   "metadata": {},
   "source": [
    "### Definir el LLM\n"
   ]
  },
  {
   "cell_type": "code",
   "execution_count": 55,
   "metadata": {},
   "outputs": [],
   "source": [
    "from langchain_aws import BedrockLLM\n",
    "from langchain_aws import ChatBedrock, ChatBedrockConverse\n",
    "\n",
    "bedrock_model = \"anthropic.claude-3-sonnet-20240229-v1:0\"\n",
    "\n",
    "llm_instance = ChatBedrockConverse(\n",
    "    model=bedrock_model,\n",
    "    temperature=0.02,\n",
    "    max_tokens=None\n",
    ")"
   ]
  },
  {
   "cell_type": "markdown",
   "metadata": {},
   "source": [
    "### Parser y Filtro de Relevancia"
   ]
  },
  {
   "cell_type": "code",
   "execution_count": 56,
   "metadata": {},
   "outputs": [],
   "source": [
    "from langchain_core.output_parsers import StrOutputParser\n",
    "\n",
    "parser = StrOutputParser()"
   ]
  },
  {
   "cell_type": "code",
   "execution_count": 57,
   "metadata": {},
   "outputs": [],
   "source": [
    "relevance = get_relevant_info() | llm_instance | parser\n",
    "relevance_params = {\n",
    "    \"class_name\": params[\"class_name\"]\n",
    "}\n",
    "relevante = relevance.invoke(relevance_params)\n"
   ]
  },
  {
   "cell_type": "markdown",
   "metadata": {},
   "source": [
    "### Proceso Parte 1 :  Resultados de Aprendizaje"
   ]
  },
  {
   "cell_type": "code",
   "execution_count": 58,
   "metadata": {},
   "outputs": [
    {
     "name": "stderr",
     "output_type": "stream",
     "text": [
      "C:\\Users\\nuvup\\AppData\\Local\\Temp\\ipykernel_9156\\1491747051.py:18: RuntimeWarning: coroutine 'get_retriver_result' was never awaited\n",
      "  new_params = {\n",
      "RuntimeWarning: Enable tracemalloc to get the object allocation traceback\n"
     ]
    }
   ],
   "source": [
    "if relevante == 'NO':\n",
    "  print(\"El tema que estás buscando no corresponde a un tema formativo, o actualmente no contamos con suficiente información para generar una clase sobre este asunto.\")\n",
    "\n",
    "else:\n",
    "  prompt_template = get_base_prompt()\n",
    "  classes = params[\"class_name\"]\n",
    "  context_query = f\"{params['class_name']}, para grados {params['grade']}\"\n",
    "  context = get_retriver_context(context_query)\n",
    "\n",
    "  dba_query = f\"De los derechos basicos de aprendizaje dame la metodologia de enseñanza para la tematica de ({classes}) dirigida a estudiantes del grado {params['grade']}\"\n",
    "  dba = get_retriver_result(dba_query)\n",
    "\n",
    "  learning_result_query = f\"Dame información de los Estándares Básicos de Competencias y Orientaciones pedagógicas para la clase ({classes}) dirigida a estudiantes del grado {params['grade']}\"\n",
    "  learning_result = get_retriver_result(learning_result_query)\n",
    "\n",
    "  chain = prompt_template | llm_instance | parser\n",
    "\n",
    "  new_params = {\n",
    "            \"class_name\": params[\"class_name\"],\n",
    "                \"target_audience_edu_level\":params[\"target_audience_edu_level\"],\n",
    "                \"grade\": params[\"grade\"],\n",
    "                \"context\": context,\n",
    "                \"dba\": dba,\n",
    "                \"learning_result\": learning_result,\n",
    "                \"date\":  date.today()\n",
    "            } \n",
    "  \n",
    "  result_1 = chain.invoke(new_params)\n",
    "\n",
    "  if params[\"target_audience_edu_level\"] == \"Preescolar\":\n",
    "      preschool_able = get_preschool_able_prompt() | llm_instance | parser\n",
    "      preschool_able_params = {\"result\": result_1}\n",
    "      result_1 = preschool_able.invoke(preschool_able_params)"
   ]
  },
  {
   "cell_type": "markdown",
   "metadata": {},
   "source": [
    "### Proceso parte 2 : Conceptos clave"
   ]
  },
  {
   "cell_type": "code",
   "execution_count": 59,
   "metadata": {},
   "outputs": [
    {
     "name": "stderr",
     "output_type": "stream",
     "text": [
      "C:\\Users\\nuvup\\AppData\\Local\\Temp\\ipykernel_9156\\2596700815.py:4: RuntimeWarning: coroutine 'get_retriver_context' was never awaited\n",
      "  key_params = {\n",
      "RuntimeWarning: Enable tracemalloc to get the object allocation traceback\n"
     ]
    }
   ],
   "source": [
    "key_template = get_key_concepts()\n",
    "\n",
    "chain_key_concepts = key_template | llm_instance | parser\n",
    "key_params = {\n",
    "    \"result_1\": result_1,\n",
    "    \"class_name\": params[\"class_name\"],\n",
    "    \"target_audience_edu_level\":params[\"target_audience_edu_level\"],\n",
    "    \"grade\": params[\"grade\"],\n",
    "    \"context\": context\n",
    "}\n",
    "\n",
    "result_2 = chain_key_concepts.invoke(key_params)\n",
    "\n",
    "if params[\"target_audience_edu_level\"] == \"Preescolar\":\n",
    "    result_2 = preschool_able.invoke({\"result\": result_2})"
   ]
  },
  {
   "cell_type": "markdown",
   "metadata": {},
   "source": [
    "### Proceso parte 3 : Actividades de aprendizaje"
   ]
  },
  {
   "cell_type": "code",
   "execution_count": 60,
   "metadata": {},
   "outputs": [],
   "source": [
    "result_1_2 = result_1 + \"\\n\\n\" + result_2\n",
    "activities_template = get_activities_prompt()\n",
    "chain_activities = activities_template | llm_instance | parser\n",
    "\n",
    "activities_params = {\n",
    "    \"result_1_2\": result_1_2,\n",
    "    \"class_name\": params[\"class_name\"],\n",
    "    \"target_audience_edu_level\": params[\"target_audience_edu_level\"],\n",
    "    \"grade\": params[\"grade\"],\n",
    "    \"context\": context,\n",
    "    \"dba\": dba\n",
    "}\n",
    "\n",
    "result_3 = chain_activities.invoke(activities_params)\n",
    "\n",
    "if params[\"target_audience_edu_level\"] == \"Preescolar\":\n",
    "    result_3 = preschool_able.invoke({\"result\": result_3})"
   ]
  },
  {
   "cell_type": "markdown",
   "metadata": {},
   "source": [
    "### Proceso parte 4 : Examen"
   ]
  },
  {
   "cell_type": "code",
   "execution_count": 61,
   "metadata": {},
   "outputs": [],
   "source": [
    "exam_template = get_exam_prompt()\n",
    "chain_exam = exam_template | llm_instance | parser\n",
    "examn_params = {\n",
    "    \"prompt\": result_1 + '\\n\\n' + result_2 + '\\n\\n' + result_3 \n",
    "}\n",
    "\n",
    "result_4 = chain_exam.invoke(examn_params)\n",
    "\n",
    "if params[\"target_audience_edu_level\"] == \"Preescolar\":\n",
    "    result_4 = preschool_able.invoke({\"result\": result_4})"
   ]
  },
  {
   "cell_type": "markdown",
   "metadata": {},
   "source": [
    "# Ouput"
   ]
  },
  {
   "cell_type": "code",
   "execution_count": 62,
   "metadata": {},
   "outputs": [
    {
     "name": "stdout",
     "output_type": "stream",
     "text": [
      "# ¡Cocinemos con Mamá y Papá!\n",
      "\n",
      "Fecha de creación: 2025-01-22\n",
      "Nivel educativo: Preescolar\n",
      "\n",
      "Resultados de aprendizaje:\n",
      "\n",
      "1. Conocer los alimentos que comemos en casa.\n",
      "2. Practicar nuestras manitas para cocinar.\n",
      "3. Aprender a comer comidas ricas y saludables.\n",
      "4. Jugar y divertirnos cocinando juntos.\n",
      "\n",
      "## Conceptos clave:\n",
      "\n",
      "- **Comida**: Lo que comemos para estar sanos y fuertes.\n",
      "- **Cocinar**: Preparar la comida con ayuda de un adulto.\n",
      "- **Ingredientes**: Las cosas que necesitamos para hacer la comida.\n",
      "- **Nutrientes**: Las cosas buenas que hay en la comida y nos ayudan a crecer.\n",
      "- **Receta**: Las instrucciones para hacer una comida rica.\n",
      "- **Saludable**: Algo que nos hace bien al cuerpo.\n",
      "- **Utensilios**: Las herramientas que usamos para cocinar.\n",
      "\n",
      "## Actividades divertidas\n",
      "\n",
      "- Jugaremos a ser cocineros: Usaremos delantales y gorros de chef para sentirnos como verdaderos cocineros.\n",
      "- Escucharemos cuentos y canciones sobre comidas: Nos divertiremos aprendiendo sobre los alimentos con historias y canciones.\n",
      "\n",
      "## Juegos y manualidades\n",
      "\n",
      "1. **Adivina el alimento**: Mostraremos diferentes alimentos y los niños tendrán que adivinar su nombre, color y textura.\n",
      "2. **Huele y prueba**: Oleremos y probaremos ingredientes seguros, como frutas y verduras.\n",
      "3. **Cuentos y canciones**: Leeremos cuentos o cantaremos canciones sobre cocineros y comidas.\n",
      "4. **Juego de roles**: Tendremos una cocina de juguete donde los niños podrán ser cocineros, meseros y clientes.\n",
      "5. **Preparar recetas fáciles**: Haremos recetas sencillas y divertidas, como ensaladas de frutas o pizzas de plastilina.\n",
      "\n",
      "## Actividades prácticas\n",
      "\n",
      "1. **Ensalada de frutas**: Lavaremos, pelaremos y cortaremos frutas para hacer una deliciosa ensalada.\n",
      "2. **Pizzas divertidas**: Decoraremos pizzas de plastilina con nuestros ingredientes favoritos.\n",
      "3. **Paletas de yogurt**: Mezclaremos yogurt con frutas y decoraremos nuestras propias paletas.\n",
      "\n",
      "## Actividades creativas\n",
      "\n",
      "1. **Conversación sobre comidas saludables**: Hablaremos sobre la importancia de comer alimentos nutritivos y saludables.\n",
      "2. **Dibujos y collages**: Dibujaremos o haremos collages con recortes de nuestras comidas favoritas.\n",
      "3. **Compartir experiencias**: Contaremos historias sobre nuestras experiencias cocinando en casa con nuestras familias.\n",
      "\n",
      "```\n",
      "1. ¿Qué es esto? (Mostrar una imagen de comida)\n",
      "\n",
      "A) Algo que comemos para estar fuertes y sanos.\n",
      "B) Algo que bebemos para estar fuertes y sanos.\n",
      "C) Algo con lo que jugamos.\n",
      "D) Algo en lo que dormimos.\n",
      "\n",
      "2. ¿Qué son estas cosas? (Mostrar imágenes de ingredientes como frutas, verduras, etc.)\n",
      "\n",
      "A) Las cosas que necesitamos para hacer comida.\n",
      "B) Las cosas con las que jugamos.\n",
      "C) Las cosas en las que dormimos.\n",
      "D) Las cosas con las que estudiamos.\n",
      "\n",
      "3. ¿Qué son estas cosas? (Mostrar imágenes de utensilios de cocina)\n",
      "\n",
      "A) Las herramientas que usamos para cocinar.\n",
      "B) Las herramientas con las que jugamos.\n",
      "C) Las herramientas con las que estudiamos.\n",
      "D) Las herramientas en las que dormimos.\n",
      "\n",
      "4. ¿Qué es esto? (Mostrar una imagen de una receta sencilla)\n",
      "\n",
      "A) Las instrucciones para hacer una comida rica.\n",
      "B) Las instrucciones para jugar.\n",
      "C) Las instrucciones para estudiar.\n",
      "D) Las instrucciones para dormir.\n",
      "\n",
      "5. ¿Qué significa \"saludable\"? (Mostrar imágenes de comidas saludables y no saludables)\n",
      "\n",
      "A) Algo que nos hace bien al cuerpo.\n",
      "B) Algo que nos hace mal al cuerpo.\n",
      "C) Algo que nos hace reír.\n",
      "D) Algo que nos hace llorar.\n",
      "\n",
      "6. ¿Qué NO haremos en la clase? (Mostrar imágenes de las actividades)\n",
      "\n",
      "A) Jugaremos a ser cocineros.\n",
      "B) Escucharemos cuentos y canciones sobre comidas.\n",
      "C) Aprenderemos a sumar y restar.\n",
      "D) Prepararemos recetas fáciles.\n",
      "\n",
      "7. ¿Qué haremos en la actividad \"Huele y prueba\"? (Mostrar imágenes de frutas y verduras)\n",
      "\n",
      "A) Oleremos y probaremos ingredientes seguros, como frutas y verduras.\n",
      "B) Oleremos y probaremos juguetes.\n",
      "C) Oleremos y probaremos libros.\n",
      "D) Oleremos y probaremos lápices.\n",
      "\n",
      "8. ¿Qué actividad creativa haremos? (Mostrar imágenes de dibujos y collages)\n",
      "\n",
      "A) Dibujaremos o haremos collages con recortes de nuestras comidas favoritas.\n",
      "B) Jugaremos a los videojuegos.\n",
      "C) Veremos una película.\n",
      "D) Leeremos un libro.\n",
      "```\n"
     ]
    }
   ],
   "source": [
    "print(result_1)\n",
    "print()\n",
    "print(result_2)\n",
    "print()\n",
    "print(result_3)\n",
    "print()\n",
    "print(result_4)"
   ]
  },
  {
   "cell_type": "markdown",
   "metadata": {},
   "source": []
  },
  {
   "cell_type": "markdown",
   "metadata": {},
   "source": []
  }
 ],
 "metadata": {
  "kernelspec": {
   "display_name": "Python 3",
   "language": "python",
   "name": "python3"
  },
  "language_info": {
   "codemirror_mode": {
    "name": "ipython",
    "version": 3
   },
   "file_extension": ".py",
   "mimetype": "text/x-python",
   "name": "python",
   "nbconvert_exporter": "python",
   "pygments_lexer": "ipython3",
   "version": "3.11.9"
  }
 },
 "nbformat": 4,
 "nbformat_minor": 2
}

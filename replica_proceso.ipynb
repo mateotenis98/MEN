{
 "cells": [
  {
   "cell_type": "markdown",
   "metadata": {},
   "source": [
    "### Inicio"
   ]
  },
  {
   "cell_type": "code",
   "execution_count": 40,
   "metadata": {},
   "outputs": [],
   "source": [
    "from datetime import date\n",
    "import os\n",
    "os.environ[\"AWS_PROFILE\"] = \"men\"\n",
    "os.environ['AWS_DEFAULT_REGION'] = 'us-east-1'"
   ]
  },
  {
   "cell_type": "code",
   "execution_count": 41,
   "metadata": {},
   "outputs": [],
   "source": [
    "params = {\n",
    "    \"class_name\":\"Números\",\n",
    "    \"target_audience_edu_level\":\"Preescolar\",\n",
    "    \"grade\":\"no aplica\"\n",
    "}"
   ]
  },
  {
   "cell_type": "markdown",
   "metadata": {},
   "source": [
    "### Retriever"
   ]
  },
  {
   "cell_type": "code",
   "execution_count": 42,
   "metadata": {},
   "outputs": [],
   "source": [
    "from langchain_aws.retrievers.bedrock import AmazonKnowledgeBasesRetriever"
   ]
  },
  {
   "cell_type": "code",
   "execution_count": 43,
   "metadata": {},
   "outputs": [],
   "source": [
    "kb_context_id = \"BC3JS4SRQG\"\n",
    "kb_result_id = \"MQPBML7IQ2\"\n",
    "\n",
    "# Base knowledge\n",
    "retriever_context = AmazonKnowledgeBasesRetriever(\n",
    "    knowledge_base_id = kb_context_id,\n",
    "    retrieval_config = {\n",
    "        \"vectorSearchConfiguration\": {\n",
    "            \"numberOfResults\": 4,\n",
    "            'overrideSearchType': \"SEMANTIC\" # optional\n",
    "        }\n",
    "    },\n",
    ")\n",
    "\n",
    "retriever_result = AmazonKnowledgeBasesRetriever(\n",
    "    knowledge_base_id = kb_result_id,\n",
    "    retrieval_config = {\n",
    "        \"vectorSearchConfiguration\": {\n",
    "            \"numberOfResults\": 4,\n",
    "            'overrideSearchType': \"SEMANTIC\" # optional\n",
    "        }\n",
    "    },\n",
    ")"
   ]
  },
  {
   "cell_type": "code",
   "execution_count": 44,
   "metadata": {},
   "outputs": [],
   "source": [
    "def get_retriver_docs(docs):    \n",
    "    context = \"\\n\".join([doc.page_content for doc in docs])  # Iteramos de forma síncrona si 'docs' es una lista\n",
    "    return context"
   ]
  },
  {
   "cell_type": "code",
   "execution_count": 45,
   "metadata": {},
   "outputs": [],
   "source": [
    "async def get_retriver_context(params):\n",
    "    docs = await retriever_context.ainvoke(params)\n",
    "    return get_retriver_docs(docs)"
   ]
  },
  {
   "cell_type": "code",
   "execution_count": 46,
   "metadata": {},
   "outputs": [],
   "source": [
    "async def get_retriver_result(params):\n",
    "    docs = await retriever_result.ainvoke(params)\n",
    "    return get_retriver_docs(docs)"
   ]
  },
  {
   "cell_type": "markdown",
   "metadata": {},
   "source": [
    "### Prompts"
   ]
  },
  {
   "cell_type": "code",
   "execution_count": 47,
   "metadata": {},
   "outputs": [],
   "source": [
    "from langchain.prompts import PromptTemplate"
   ]
  },
  {
   "cell_type": "code",
   "execution_count": 48,
   "metadata": {},
   "outputs": [],
   "source": [
    "def get_relevant_info():\n",
    "    with open(\"1_get_relevant_info.sty\", \"r\", encoding=\"utf-8\") as file:\n",
    "        prompt_content = file.read()\n",
    "    \n",
    "    return PromptTemplate(\n",
    "        input_variables=[\"class_name\"],\n",
    "        template=prompt_content,\n",
    "    )\n",
    "\n"
   ]
  },
  {
   "cell_type": "code",
   "execution_count": 49,
   "metadata": {},
   "outputs": [],
   "source": [
    "def get_base_prompt():\n",
    "    with open(\"2_get_base_prompt.sty\", \"r\", encoding=\"utf-8\") as file:\n",
    "        prompt_content = file.read()\n",
    "\n",
    "    return PromptTemplate(\n",
    "        input_variables=[\"target_audience_edu_level\", \"class_name\", \"grade\", \"date\", \"context\", \"learning_result\"],\n",
    "        template=prompt_content\n",
    "    )"
   ]
  },
  {
   "cell_type": "code",
   "execution_count": 50,
   "metadata": {},
   "outputs": [],
   "source": [
    "def get_preschool_able_prompt():\n",
    "    with open(\"3_get_preschool_able_prompt.sty\", \"r\", encoding=\"utf-8\") as file:\n",
    "        prompt_content = file.read()\n",
    "    \n",
    "    return PromptTemplate(\n",
    "            input_variables=[\"result_1\"],\n",
    "            template=prompt_content\n",
    "        )"
   ]
  },
  {
   "cell_type": "code",
   "execution_count": 51,
   "metadata": {},
   "outputs": [],
   "source": [
    "def get_key_concepts():\n",
    "    with open(\"4_get_key_concepts.sty\", \"r\", encoding=\"utf-8\") as file:\n",
    "        prompt_content = file.read()\n",
    "    \n",
    "    return PromptTemplate(\n",
    "            input_variables=[\"result_1\", \"target_audience_edu_level\", \"class_name\", \"grade\", \"context\"],\n",
    "            template=prompt_content\n",
    "        )"
   ]
  },
  {
   "cell_type": "code",
   "execution_count": 52,
   "metadata": {},
   "outputs": [],
   "source": [
    "def get_activities_prompt():\n",
    "    with open(\"5_get_activities_prompt.sty\", \"r\", encoding=\"utf-8\") as file:\n",
    "        prompt_content = file.read()\n",
    "    \n",
    "    return PromptTemplate(\n",
    "            input_variables=[\"result_1_2\", \"target_audience_edu_level\", \"class_name\", \"grade\", \"context\", \"dba\"],\n",
    "            template=prompt_content\n",
    "        )"
   ]
  },
  {
   "cell_type": "code",
   "execution_count": 53,
   "metadata": {},
   "outputs": [],
   "source": [
    "def get_exam_prompt():\n",
    "    with open(\"6_get_exam_prompt.sty\", \"r\", encoding=\"utf-8\") as file:\n",
    "        prompt_content = file.read()\n",
    "    \n",
    "    return PromptTemplate(\n",
    "            input_variables=[\"prompt\"],\n",
    "            template=prompt_content\n",
    "        )"
   ]
  },
  {
   "cell_type": "markdown",
   "metadata": {},
   "source": [
    "### Definir el LLM\n"
   ]
  },
  {
   "cell_type": "code",
   "execution_count": 54,
   "metadata": {},
   "outputs": [],
   "source": [
    "from langchain_aws import BedrockLLM\n",
    "from langchain_aws import ChatBedrock, ChatBedrockConverse\n",
    "\n",
    "bedrock_model = \"anthropic.claude-3-sonnet-20240229-v1:0\"\n",
    "\n",
    "llm_instance = ChatBedrockConverse(\n",
    "    model=bedrock_model,\n",
    "    temperature=0.02,\n",
    "    max_tokens=None\n",
    ")"
   ]
  },
  {
   "cell_type": "markdown",
   "metadata": {},
   "source": [
    "### Parser y Filtro de Relevancia"
   ]
  },
  {
   "cell_type": "code",
   "execution_count": 55,
   "metadata": {},
   "outputs": [],
   "source": [
    "from langchain_core.output_parsers import StrOutputParser\n",
    "\n",
    "parser = StrOutputParser()"
   ]
  },
  {
   "cell_type": "code",
   "execution_count": 56,
   "metadata": {},
   "outputs": [],
   "source": [
    "relevance = get_relevant_info() | llm_instance | parser\n",
    "relevance_params = {\n",
    "    \"class_name\": params[\"class_name\"]\n",
    "}\n",
    "relevante = relevance.invoke(relevance_params)\n"
   ]
  },
  {
   "cell_type": "markdown",
   "metadata": {},
   "source": [
    "### Proceso Parte 1 :  Resultados de Aprendizaje"
   ]
  },
  {
   "cell_type": "code",
   "execution_count": 57,
   "metadata": {},
   "outputs": [
    {
     "name": "stderr",
     "output_type": "stream",
     "text": [
      "C:\\Users\\Mateo Grisales\\AppData\\Local\\Temp\\ipykernel_16380\\1491747051.py:18: RuntimeWarning: coroutine 'get_retriver_result' was never awaited\n",
      "  new_params = {\n",
      "RuntimeWarning: Enable tracemalloc to get the object allocation traceback\n"
     ]
    }
   ],
   "source": [
    "if relevante == 'NO':\n",
    "  print(\"El tema que estás buscando no corresponde a un tema formativo, o actualmente no contamos con suficiente información para generar una clase sobre este asunto.\")\n",
    "\n",
    "else:\n",
    "  prompt_template = get_base_prompt()\n",
    "  classes = params[\"class_name\"]\n",
    "  context_query = f\"{params['class_name']}, para grados {params['grade']}\"\n",
    "  context = get_retriver_context(context_query)\n",
    "\n",
    "  dba_query = f\"De los derechos basicos de aprendizaje dame la metodologia de enseñanza para la tematica de ({classes}) dirigida a estudiantes del grado {params['grade']}\"\n",
    "  dba = get_retriver_result(dba_query)\n",
    "\n",
    "  learning_result_query = f\"Dame información de los Estándares Básicos de Competencias y Orientaciones pedagógicas para la clase ({classes}) dirigida a estudiantes del grado {params['grade']}\"\n",
    "  learning_result = get_retriver_result(learning_result_query)\n",
    "\n",
    "  chain = prompt_template | llm_instance | parser\n",
    "\n",
    "  new_params = {\n",
    "            \"class_name\": params[\"class_name\"],\n",
    "                \"target_audience_edu_level\":params[\"target_audience_edu_level\"],\n",
    "                \"grade\": params[\"grade\"],\n",
    "                \"context\": context,\n",
    "                \"dba\": dba,\n",
    "                \"learning_result\": learning_result,\n",
    "                \"date\":  date.today()\n",
    "            } \n",
    "  \n",
    "  result_1 = chain.invoke(new_params)\n",
    "\n",
    "  if params[\"target_audience_edu_level\"] == \"Preescolar\":\n",
    "      preschool_able = get_preschool_able_prompt() | llm_instance | parser\n",
    "      preschool_able_params = {\"result\": result_1}\n",
    "      result_1 = preschool_able.invoke(preschool_able_params)"
   ]
  },
  {
   "cell_type": "markdown",
   "metadata": {},
   "source": [
    "### Proceso parte 2 : Conceptos clave"
   ]
  },
  {
   "cell_type": "code",
   "execution_count": 58,
   "metadata": {},
   "outputs": [],
   "source": [
    "key_template = get_key_concepts()\n",
    "\n",
    "chain_key_concepts = key_template | llm_instance | parser\n",
    "key_params = {\n",
    "    \"result_1\": result_1,\n",
    "    \"class_name\": params[\"class_name\"],\n",
    "    \"target_audience_edu_level\":params[\"target_audience_edu_level\"],\n",
    "    \"grade\": params[\"grade\"],\n",
    "    \"context\": context\n",
    "}\n",
    "\n",
    "result_2 = chain_key_concepts.invoke(key_params)\n",
    "\n",
    "if params[\"target_audience_edu_level\"] == \"Preescolar\":\n",
    "    result_2 = preschool_able.invoke({\"result\": result_2})"
   ]
  },
  {
   "cell_type": "markdown",
   "metadata": {},
   "source": [
    "### Proceso parte 3 : Actividades de aprendizaje"
   ]
  },
  {
   "cell_type": "code",
   "execution_count": 59,
   "metadata": {},
   "outputs": [
    {
     "name": "stderr",
     "output_type": "stream",
     "text": [
      "C:\\Users\\Mateo Grisales\\AppData\\Local\\Temp\\ipykernel_16380\\1747868058.py:5: RuntimeWarning: coroutine 'get_retriver_context' was never awaited\n",
      "  activities_params = {\n",
      "RuntimeWarning: Enable tracemalloc to get the object allocation traceback\n",
      "C:\\Users\\Mateo Grisales\\AppData\\Local\\Temp\\ipykernel_16380\\1747868058.py:5: RuntimeWarning: coroutine 'get_retriver_result' was never awaited\n",
      "  activities_params = {\n",
      "RuntimeWarning: Enable tracemalloc to get the object allocation traceback\n"
     ]
    }
   ],
   "source": [
    "result_1_2 = result_1 + \"\\n\\n\" + result_2\n",
    "activities_template = get_activities_prompt()\n",
    "chain_activities = activities_template | llm_instance | parser\n",
    "\n",
    "activities_params = {\n",
    "    \"result_1_2\": result_1_2,\n",
    "    \"class_name\": params[\"class_name\"],\n",
    "    \"target_audience_edu_level\": params[\"target_audience_edu_level\"],\n",
    "    \"grade\": params[\"grade\"],\n",
    "    \"context\": context,\n",
    "    \"dba\": dba\n",
    "}\n",
    "\n",
    "result_3 = chain_activities.invoke(activities_params)\n",
    "\n",
    "if params[\"target_audience_edu_level\"] == \"Preescolar\":\n",
    "    result_3 = preschool_able.invoke({\"result\": result_3})"
   ]
  },
  {
   "cell_type": "markdown",
   "metadata": {},
   "source": [
    "### Proceso parte 4 : Examen"
   ]
  },
  {
   "cell_type": "code",
   "execution_count": 60,
   "metadata": {},
   "outputs": [],
   "source": [
    "exam_template = get_exam_prompt()\n",
    "chain_exam = exam_template | llm_instance | parser\n",
    "examn_params = {\n",
    "    \"prompt\": result_1 + '\\n\\n' + result_2 + '\\n\\n' + result_3 \n",
    "}\n",
    "\n",
    "result_4 = chain_exam.invoke(examn_params)\n",
    "\n",
    "if params[\"target_audience_edu_level\"] == \"Preescolar\":\n",
    "    result_4 = preschool_able.invoke({\"result\": result_4})"
   ]
  },
  {
   "cell_type": "markdown",
   "metadata": {},
   "source": [
    "# Ouput"
   ]
  },
  {
   "cell_type": "code",
   "execution_count": 61,
   "metadata": {},
   "outputs": [
    {
     "name": "stdout",
     "output_type": "stream",
     "text": [
      "# Explorando el Mundo de los Números\n",
      "\n",
      "Fecha de creación: 2025-01-23\n",
      "Nivel educativo: Preescolar\n",
      "\n",
      "## Resultados de aprendizaje:\n",
      "\n",
      "1. Aprender los nombres de los números del 1 al 10 a través de canciones y juegos.\n",
      "2. Contar objetos familiares y relacionarlos con los números correspondientes.\n",
      "3. Dibujar y colorear los números del 1 al 10 siguiendo modelos.\n",
      "4. Contar objetos en orden y seguir secuencias numéricas simples.\n",
      "5. Jugar con bloques o fichas para sumar y restar pequeñas cantidades.\n",
      "\n",
      "## Conceptos clave:\n",
      "\n",
      "- Juntar cosas\n",
      "- Cuántas hay\n",
      "- Contar con los deditos\n",
      "- Hacer dibujos bonitos\n",
      "- Conocer los numeritos\n",
      "- Poner en orden\n",
      "- Quitar cosas\n",
      "- Seguir la secuencia\n",
      "\n",
      "**Tareas específicas:**\n",
      "1. Juguemos a juntar bloques de colores, ¿cuántos hay en total?\n",
      "2. Hagamos una manualidad con plastilina, formando bolitas y contándolas.\n",
      "3. Dibujemos animalitos y contemos cuántas patitas tienen.\n",
      "4. Cantemos la canción de los números mientras señalamos los deditos.\n",
      "5. Ordenemos los juguetes por tamaño, del más pequeño al más grande.\n",
      "6. Juguemos a quitar peluches de la caja, ¿cuántos quedan?\n",
      "7. Sigamos la secuencia de colores con nuestros pasos: rojo, azul, rojo, azul...\n",
      "\n",
      "## Metodologías\n",
      "\n",
      "- Aprendizaje lúdico y experiencial: Los niños aprenderán a través de juegos, canciones y manipulación de objetos divertidos, explorando y descubriendo de manera activa.\n",
      "- Enfoque multisensorial: Se utilizarán colores, sonidos y texturas para captar la atención de los niños y ayudarlos a entender los números.\n",
      "- Repetición y refuerzo: Se repetirán los conceptos y actividades de manera constante y divertida para que los niños los recuerden mejor.\n",
      "\n",
      "## Actividades de aprendizaje\n",
      "\n",
      "1. Cantar canciones y rimas divertidas sobre los números del 1 al 10.\n",
      "2. Contar objetos familiares como peluches, bloques o frutas.\n",
      "3. Dibujar y colorear los números siguiendo modelos divertidos.\n",
      "4. Jugar a saltar o aplaudir siguiendo una secuencia numérica.\n",
      "5. Jugar con bloques o fichas para sumar y restar de manera sencilla.\n",
      "\n",
      "## Actividades prácticas\n",
      "\n",
      "1. Juntar bloques de diferentes colores y contar cuántos hay en total.\n",
      "2. Hacer bolitas con plastilina y contarlas.\n",
      "3. Dibujar animales y contar sus patas o partes del cuerpo.\n",
      "4. Cantar la canción de los números mientras señalan sus deditos.\n",
      "5. Ordenar juguetes del más pequeño al más grande.\n",
      "6. Sacar peluches de una caja y contar los que quedan.\n",
      "\n",
      "## Actividades reflexivas\n",
      "\n",
      "1. Hablar sobre dónde vemos los números en nuestra casa o en la calle.\n",
      "2. Compartir qué actividades de contar les gustaron más.\n",
      "3. Pensar en cómo podemos usar los números en nuestro día a día.\n",
      "4. Expresar cómo nos sentimos al trabajar con los números.\n",
      "\n",
      "```\n",
      "1. ¿Cuál de estas cosas NO hicimos en la clase?\n",
      "\n",
      "A) Cantar canciones sobre los numeritos\n",
      "B) Contar juguetitos y cositas\n",
      "C) Dibujar y pintar los numeritos\n",
      "D) Resolver problemas muy difíciles\n",
      "\n",
      "2. ¿Hasta qué numerito aprendimos en la clase?\n",
      "\n",
      "A) Hasta el 5\n",
      "B) Hasta el 10\n",
      "C) Hasta el 20\n",
      "D) Todos los numeritos\n",
      "\n",
      "3. ¿Qué hacemos cuando quitamos cositas de un grupito?\n",
      "\n",
      "A) Juntamos cosas\n",
      "B) Contamos cuántas hay\n",
      "C) Quitamos cosas\n",
      "D) Hacemos dibujitos bonitos\n",
      "\n",
      "4. ¿Con qué jugamos para hacer bolitas y contarlas?\n",
      "\n",
      "A) Dibujamos animalitos y contamos sus patitas\n",
      "B) Cantamos la canción de los numeritos\n",
      "C) Ordenamos juguetitos por tamaños\n",
      "D) Usamos plastilina\n",
      "\n",
      "5. ¿Cómo aprendimos los numeritos en la clase?\n",
      "\n",
      "A) Jugando y haciendo cosas divertidas\n",
      "B) Usando nuestros ojos, oídos y manitas\n",
      "C) Repitiendo y practicando mucho\n",
      "D) Todas las anteriores\n",
      "\n",
      "6. ¿Cuál de estas cosas NO hicimos en la clase?\n",
      "\n",
      "A) Cantar canciones y rimas sobre los numeritos\n",
      "B) Contar juguetitos y cositas\n",
      "C) Dibujar y pintar los numeritos\n",
      "D) Resolver cuentas muy difíciles\n",
      "\n",
      "7. ¿Qué hacemos cuando ponemos las cosas en orden?\n",
      "\n",
      "A) Ponemos en orden\n",
      "B) Seguimos la secuencia\n",
      "C) Conocemos los numeritos\n",
      "D) Contamos con los deditos\n",
      "\n",
      "8. ¿Qué hicimos al final de la clase?\n",
      "\n",
      "A) Hablamos sobre por qué los numeritos son importantes\n",
      "B) Dijimos qué actividades nos gustaron más\n",
      "C) Resolvimos problemas muy difíciles\n",
      "D) Aprendimos a sumar y restar numeritos grandes\n",
      "```\n"
     ]
    }
   ],
   "source": [
    "print(result_1)\n",
    "print()\n",
    "print(result_2)\n",
    "print()\n",
    "print(result_3)\n",
    "print()\n",
    "print(result_4)"
   ]
  },
  {
   "cell_type": "markdown",
   "metadata": {},
   "source": [
    "**Asunto:** Actualizaciones técnicas en el pipeline para mejorar precisión, coherencia y relevancia educativa  \n",
    "\n",
    "Estimados/as [Nombre del destinatario o equipo]:  \n",
    "\n",
    "Les informamos sobre las recientes actualizaciones técnicas implementadas en el pipeline de generación de contenido educativo, que abordan problemas de alucinaciones, coherencia en las salidas y ajuste al nivel educativo. Estas mejoras combinan estrategias avanzadas de *prompt engineering* y ajustes en la lógica del código para optimizar los resultados generados.  \n",
    "\n",
    "### Cambios principales:  \n",
    "\n",
    "1. **Mitigación de alucinaciones mediante *prompt engineering***:  \n",
    "   Se diseñó un *prompt* especializado para validar la relevancia y adecuación del tema solicitado antes de proceder con la generación de contenido. Este *prompt* realiza un análisis semántico en cuatro dimensiones clave:  \n",
    "   - Verifica si el tema tiene valor educativo y es adecuado para un entorno académico.  \n",
    "   - Descarta automáticamente temas ofensivos, vulgares o inapropiados.  \n",
    "   - Evalúa si el tema tiene suficiente información o contexto para ser desarrollado.  \n",
    "   - En caso de nombres de personas, valida su relevancia educativa, histórica o cultural, descartando aquellos que no cumplan estos criterios.  \n",
    "   Este ajuste garantiza que el sistema minimice alucinaciones al enfocarse exclusivamente en temas relevantes y desarrollables.  \n",
    "\n",
    "2. **Incremento en la coherencia mediante generación en cascada**:  \n",
    "   Se reestructuró la lógica de generación para que cada sección de contenido tome como entrada las salidas generadas previamente, logrando mayor cohesión narrativa. Este enfoque evita la independencia entre secciones, un problema que previamente generaba inconsistencias en el flujo. La generación en cascada asegura que los conceptos clave, actividades y evaluaciones estén interconectados y alineados con el contexto general.  \n",
    "\n",
    "3. **Optimización del contenido para educación preescolar**:  \n",
    "   Dado que el nivel preescolar presentaba mayores dificultades en términos de adecuación, desarrollamos un *prompt* específico para este nivel educativo. Este ajuste incluye reglas lingüísticas y pedagógicas adaptadas para asegurar que el contenido sea claro, comprensible y apropiado para estudiantes de preescolar.  \n",
    "\n",
    "### Implementación técnica:  \n",
    "- Los ajustes en los *prompts* se integraron como plantillas dinámicas que interactúan con el modelo de lenguaje mediante *pipeline chaining*, combinando recuperación de información contextual, generación de conceptos clave, actividades y evaluaciones.  \n",
    "- Se implementaron consultas semánticas a bases de conocimiento externas para enriquecer el contexto con metodologías, estándares educativos y derechos básicos de aprendizaje.  \n",
    "- Se emplearon funciones asíncronas para optimizar la recuperación de datos y acelerar el procesamiento.  \n",
    "\n",
    "Estas mejoras han permitido un aumento significativo en la precisión y consistencia del contenido generado, minimizando errores contextuales y asegurando que los resultados cumplan con las expectativas pedagógicas y técnicas.  \n",
    "\n",
    "Quedamos atentos/as a cualquier consulta o comentario respecto a estos ajustes.  \n",
    "\n",
    "Saludos cordiales,  \n",
    "[Sus nombres]  \n",
    "[Sus cargos/posiciones]  \n",
    "[Sus contactos]  \n"
   ]
  },
  {
   "cell_type": "markdown",
   "metadata": {},
   "source": []
  },
  {
   "cell_type": "code",
   "execution_count": 63,
   "metadata": {},
   "outputs": [
    {
     "name": "stdout",
     "output_type": "stream",
     "text": [
      "**Asunto:** Actualizaciones técnicas en el pipeline para mejorar precisión, coherencia y relevancia educativa  \n",
      "\n",
      "Estimados/as [Nombre del destinatario o equipo]:  \n",
      "\n",
      "Les informamos sobre las recientes actualizaciones técnicas implementadas en el pipeline de generación de contenido educativo, que abordan problemas de alucinaciones, coherencia en las salidas y ajuste al nivel educativo. Estas mejoras combinan estrategias avanzadas de *prompt engineering* y ajustes en la lógica del código para optimizar los resultados generados.  \n",
      "\n",
      "### Cambios principales:  \n",
      "\n",
      "1. **Mitigación de alucinaciones mediante *prompt engineering***:  \n",
      "   Se diseñó un *prompt* especializado para validar la relevancia y adecuación del tema solicitado antes de proceder con la generación de contenido. Este *prompt* realiza un análisis semántico en cuatro dimensiones clave:  \n",
      "   - Verifica si el tema tiene valor educativo y es adecuado para un entorno académico.  \n",
      "   - Descarta automáticamente temas ofensivos, vulgares o inapropiados.  \n",
      "   - Evalúa si el tema tiene suficiente información o contexto para ser desarrollado.  \n",
      "   - En caso de nombres de personas, valida su relevancia educativa, histórica o cultural, descartando aquellos que no cumplan estos criterios.  \n",
      "   Este ajuste garantiza que el sistema minimice alucinaciones al enfocarse exclusivamente en temas relevantes y desarrollables.  \n",
      "\n",
      "2. **Incremento en la coherencia mediante generación en cascada**:  \n",
      "   Se reestructuró la lógica de generación para que cada sección de contenido tome como entrada las salidas generadas previamente, logrando mayor cohesión narrativa. Este enfoque evita la independencia entre secciones, un problema que previamente generaba inconsistencias en el flujo. La generación en cascada asegura que los conceptos clave, actividades y evaluaciones estén interconectados y alineados con el contexto general.  \n",
      "\n",
      "3. **Optimización del contenido para educación preescolar**:  \n",
      "   Dado que el nivel preescolar presentaba mayores dificultades en términos de adecuación, desarrollamos un *prompt* específico para este nivel educativo. Este ajuste incluye reglas lingüísticas y pedagógicas adaptadas para asegurar que el contenido sea claro, comprensible y apropiado para estudiantes de preescolar.  \n",
      "\n",
      "### Implementación técnica:  \n",
      "- Los ajustes en los *prompts* se integraron como plantillas dinámicas que interactúan con el modelo de lenguaje mediante *pipeline chaining*, combinando recuperación de información contextual, generación de conceptos clave, actividades y evaluaciones.  \n",
      "- Se implementaron consultas semánticas a bases de conocimiento externas para enriquecer el contexto con metodologías, estándares educativos y derechos básicos de aprendizaje.  \n",
      "- Se emplearon funciones asíncronas para optimizar la recuperación de datos y acelerar el procesamiento.  \n",
      "\n",
      "Estas mejoras han permitido un aumento significativo en la precisión y consistencia del contenido generado, minimizando errores contextuales y asegurando que los resultados cumplan con las expectativas pedagógicas y técnicas.  \n",
      "\n",
      "Quedamos atentos/as a cualquier consulta o comentario respecto a estos ajustes.  \n",
      "\n",
      "Saludos cordiales,  \n",
      "[Sus nombres]  \n",
      "[Sus cargos/posiciones]  \n",
      "[Sus contactos]  \n",
      "\n"
     ]
    }
   ],
   "source": [
    "print(\"\"\"**Asunto:** Actualizaciones técnicas en el pipeline para mejorar precisión, coherencia y relevancia educativa  \n",
    "\n",
    "Estimados/as [Nombre del destinatario o equipo]:  \n",
    "\n",
    "Les informamos sobre las recientes actualizaciones técnicas implementadas en el pipeline de generación de contenido educativo, que abordan problemas de alucinaciones, coherencia en las salidas y ajuste al nivel educativo. Estas mejoras combinan estrategias avanzadas de *prompt engineering* y ajustes en la lógica del código para optimizar los resultados generados.  \n",
    "\n",
    "### Cambios principales:  \n",
    "\n",
    "1. **Mitigación de alucinaciones mediante *prompt engineering***:  \n",
    "   Se diseñó un *prompt* especializado para validar la relevancia y adecuación del tema solicitado antes de proceder con la generación de contenido. Este *prompt* realiza un análisis semántico en cuatro dimensiones clave:  \n",
    "   - Verifica si el tema tiene valor educativo y es adecuado para un entorno académico.  \n",
    "   - Descarta automáticamente temas ofensivos, vulgares o inapropiados.  \n",
    "   - Evalúa si el tema tiene suficiente información o contexto para ser desarrollado.  \n",
    "   - En caso de nombres de personas, valida su relevancia educativa, histórica o cultural, descartando aquellos que no cumplan estos criterios.  \n",
    "   Este ajuste garantiza que el sistema minimice alucinaciones al enfocarse exclusivamente en temas relevantes y desarrollables.  \n",
    "\n",
    "2. **Incremento en la coherencia mediante generación en cascada**:  \n",
    "   Se reestructuró la lógica de generación para que cada sección de contenido tome como entrada las salidas generadas previamente, logrando mayor cohesión narrativa. Este enfoque evita la independencia entre secciones, un problema que previamente generaba inconsistencias en el flujo. La generación en cascada asegura que los conceptos clave, actividades y evaluaciones estén interconectados y alineados con el contexto general.  \n",
    "\n",
    "3. **Optimización del contenido para educación preescolar**:  \n",
    "   Dado que el nivel preescolar presentaba mayores dificultades en términos de adecuación, desarrollamos un *prompt* específico para este nivel educativo. Este ajuste incluye reglas lingüísticas y pedagógicas adaptadas para asegurar que el contenido sea claro, comprensible y apropiado para estudiantes de preescolar.  \n",
    "\n",
    "### Implementación técnica:  \n",
    "- Los ajustes en los *prompts* se integraron como plantillas dinámicas que interactúan con el modelo de lenguaje mediante *pipeline chaining*, combinando recuperación de información contextual, generación de conceptos clave, actividades y evaluaciones.  \n",
    "- Se implementaron consultas semánticas a bases de conocimiento externas para enriquecer el contexto con metodologías, estándares educativos y derechos básicos de aprendizaje.  \n",
    "- Se emplearon funciones asíncronas para optimizar la recuperación de datos y acelerar el procesamiento.  \n",
    "\n",
    "Estas mejoras han permitido un aumento significativo en la precisión y consistencia del contenido generado, minimizando errores contextuales y asegurando que los resultados cumplan con las expectativas pedagógicas y técnicas.  \n",
    "\n",
    "Quedamos atentos/as a cualquier consulta o comentario respecto a estos ajustes.  \n",
    "\n",
    "Saludos cordiales,  \n",
    "[Sus nombres]  \n",
    "[Sus cargos/posiciones]  \n",
    "[Sus contactos]  \n",
    "\"\"\")"
   ]
  },
  {
   "cell_type": "code",
   "execution_count": null,
   "metadata": {},
   "outputs": [],
   "source": []
  }
 ],
 "metadata": {
  "kernelspec": {
   "display_name": "Python 3",
   "language": "python",
   "name": "python3"
  },
  "language_info": {
   "codemirror_mode": {
    "name": "ipython",
    "version": 3
   },
   "file_extension": ".py",
   "mimetype": "text/x-python",
   "name": "python",
   "nbconvert_exporter": "python",
   "pygments_lexer": "ipython3",
   "version": "3.13.1"
  }
 },
 "nbformat": 4,
 "nbformat_minor": 2
}

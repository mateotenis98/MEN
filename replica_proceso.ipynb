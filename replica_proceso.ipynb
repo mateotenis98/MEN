{
 "cells": [
  {
   "cell_type": "markdown",
   "metadata": {},
   "source": [
    "### Inicio"
   ]
  },
  {
   "cell_type": "code",
   "execution_count": 36,
   "metadata": {},
   "outputs": [],
   "source": [
    "from datetime import date\n",
    "import os\n",
    "os.environ[\"AWS_PROFILE\"] = \"men\"\n",
    "os.environ['AWS_DEFAULT_REGION'] = 'us-east-1'"
   ]
  },
  {
   "cell_type": "code",
   "execution_count": 37,
   "metadata": {},
   "outputs": [],
   "source": [
    "params = {\n",
    "    \"class_name\":\"Inteligencia Artificial\",\n",
    "    \"target_audience_edu_level\":\"Preescolar\",\n",
    "    \"grade\":\"no aplica\"\n",
    "}"
   ]
  },
  {
   "cell_type": "markdown",
   "metadata": {},
   "source": [
    "### Retriever"
   ]
  },
  {
   "cell_type": "code",
   "execution_count": 38,
   "metadata": {},
   "outputs": [],
   "source": [
    "from langchain_aws.retrievers.bedrock import AmazonKnowledgeBasesRetriever"
   ]
  },
  {
   "cell_type": "code",
   "execution_count": 39,
   "metadata": {},
   "outputs": [],
   "source": [
    "kb_context_id = \"BC3JS4SRQG\"\n",
    "kb_result_id = \"MQPBML7IQ2\"\n",
    "\n",
    "# Base knowledge\n",
    "retriever_context = AmazonKnowledgeBasesRetriever(\n",
    "    knowledge_base_id = kb_context_id,\n",
    "    retrieval_config = {\n",
    "        \"vectorSearchConfiguration\": {\n",
    "            \"numberOfResults\": 4,\n",
    "            'overrideSearchType': \"SEMANTIC\" # optional\n",
    "        }\n",
    "    },\n",
    ")\n",
    "\n",
    "retriever_result = AmazonKnowledgeBasesRetriever(\n",
    "    knowledge_base_id = kb_result_id,\n",
    "    retrieval_config = {\n",
    "        \"vectorSearchConfiguration\": {\n",
    "            \"numberOfResults\": 4,\n",
    "            'overrideSearchType': \"SEMANTIC\" # optional\n",
    "        }\n",
    "    },\n",
    ")"
   ]
  },
  {
   "cell_type": "code",
   "execution_count": 40,
   "metadata": {},
   "outputs": [],
   "source": [
    "def get_retriver_docs(docs):    \n",
    "    context = \"\\n\".join([doc.page_content for doc in docs])  # Iteramos de forma síncrona si 'docs' es una lista\n",
    "    return context"
   ]
  },
  {
   "cell_type": "code",
   "execution_count": 41,
   "metadata": {},
   "outputs": [],
   "source": [
    "async def get_retriver_context(params):\n",
    "    docs = await retriever_context.ainvoke(params)\n",
    "    return get_retriver_docs(docs)"
   ]
  },
  {
   "cell_type": "code",
   "execution_count": 42,
   "metadata": {},
   "outputs": [],
   "source": [
    "async def get_retriver_result(params):\n",
    "    docs = await retriever_result.ainvoke(params)\n",
    "    return get_retriver_docs(docs)"
   ]
  },
  {
   "cell_type": "markdown",
   "metadata": {},
   "source": [
    "### Prompts"
   ]
  },
  {
   "cell_type": "code",
   "execution_count": 43,
   "metadata": {},
   "outputs": [],
   "source": [
    "from langchain.prompts import PromptTemplate"
   ]
  },
  {
   "cell_type": "code",
   "execution_count": 44,
   "metadata": {},
   "outputs": [],
   "source": [
    "def get_relevant_info():\n",
    "    with open(\"get_relevant_info.sty\", \"r\", encoding=\"utf-8\") as file:\n",
    "        prompt_content = file.read()\n",
    "    \n",
    "    return PromptTemplate(\n",
    "        input_variables=[\"class_name\"],\n",
    "        template=prompt_content,\n",
    "    )\n",
    "\n"
   ]
  },
  {
   "cell_type": "code",
   "execution_count": 45,
   "metadata": {},
   "outputs": [],
   "source": [
    "def get_base_prompt():\n",
    "    with open(\"get_base_prompt.sty\", \"r\", encoding=\"utf-8\") as file:\n",
    "        prompt_content = file.read()\n",
    "\n",
    "    return PromptTemplate(\n",
    "        input_variables=[\"target_audience_edu_level\", \"class_name\", \"grade\", \"date\", \"context\", \"learning_result\"],\n",
    "        template=prompt_content\n",
    "    )"
   ]
  },
  {
   "cell_type": "code",
   "execution_count": 46,
   "metadata": {},
   "outputs": [],
   "source": [
    "def get_key_concepts():\n",
    "    with open(\"get_key_concepts.sty\", \"r\", encoding=\"utf-8\") as file:\n",
    "        prompt_content = file.read()\n",
    "    \n",
    "    return PromptTemplate(\n",
    "            input_variables=[\"target_audience_edu_level\", \"class_name\", \"grade\", \"context\"],\n",
    "            template=prompt_content\n",
    "        )"
   ]
  },
  {
   "cell_type": "code",
   "execution_count": 47,
   "metadata": {},
   "outputs": [],
   "source": [
    "def get_activities_prompt():\n",
    "    with open(\"get_activities_prompt.sty\", \"r\", encoding=\"utf-8\") as file:\n",
    "        prompt_content = file.read()\n",
    "    \n",
    "    return PromptTemplate(\n",
    "            input_variables=[\"target_audience_edu_level\", \"class_name\", \"grade\", \"context\", \"dba\"],\n",
    "            template=prompt_content\n",
    "        )"
   ]
  },
  {
   "cell_type": "code",
   "execution_count": 48,
   "metadata": {},
   "outputs": [],
   "source": [
    "def get_exam_prompt():\n",
    "    with open(\"get_exam_prompt.sty\", \"r\", encoding=\"utf-8\") as file:\n",
    "        prompt_content = file.read()\n",
    "    \n",
    "    return PromptTemplate(\n",
    "            input_variables=[\"prompt\"],\n",
    "            template=prompt_content\n",
    "        )"
   ]
  },
  {
   "cell_type": "code",
   "execution_count": 49,
   "metadata": {},
   "outputs": [],
   "source": [
    "def get_coherence_prompt():\n",
    "    with open(\"get_coherence_prompt.sty\", \"r\", encoding=\"utf-8\") as file:\n",
    "        prompt_content = file.read()\n",
    "    \n",
    "    return PromptTemplate(\n",
    "        input_variables=[\"result_1\", \"result_2\", \"result_3\", \"result_4\", \"target_audience_edu_level\"],\n",
    "        template=prompt_content,\n",
    "    )"
   ]
  },
  {
   "cell_type": "code",
   "execution_count": 50,
   "metadata": {},
   "outputs": [],
   "source": [
    "def get_preschool_able_prompt():\n",
    "    with open(\"get_preschool_able_prompt.sty\", \"r\", encoding=\"utf-8\") as file:\n",
    "        prompt_content = file.read()\n",
    "    \n",
    "    return PromptTemplate(\n",
    "            input_variables=[\"result_1\", \"result_2\", \"result_3\", \"result_4\"],\n",
    "            template=prompt_content\n",
    "        )"
   ]
  },
  {
   "cell_type": "markdown",
   "metadata": {},
   "source": [
    "### Definir el LLM\n"
   ]
  },
  {
   "cell_type": "code",
   "execution_count": 51,
   "metadata": {},
   "outputs": [],
   "source": [
    "from langchain_aws import BedrockLLM\n",
    "from langchain_aws import ChatBedrock, ChatBedrockConverse\n",
    "\n",
    "\n",
    "bedrock_model = \"anthropic.claude-3-sonnet-20240229-v1:0\"\n",
    "\n",
    "\n",
    "llm_instance = ChatBedrockConverse(\n",
    "    model=bedrock_model,\n",
    "    temperature=0.02,\n",
    "    max_tokens=None\n",
    ")\n"
   ]
  },
  {
   "cell_type": "markdown",
   "metadata": {},
   "source": [
    "### Objetos necesarios para definir la cadena y poder invocarla"
   ]
  },
  {
   "cell_type": "code",
   "execution_count": 52,
   "metadata": {},
   "outputs": [],
   "source": [
    "from langchain_core.output_parsers import StrOutputParser\n",
    "\n",
    "parser = StrOutputParser()"
   ]
  },
  {
   "cell_type": "code",
   "execution_count": 53,
   "metadata": {},
   "outputs": [],
   "source": [
    "\n",
    "def invoke_chain(prompt_template, params):\n",
    "    \n",
    "    # Create the LLM chain with prompt and parser\n",
    "    chain = prompt_template | llm_instance | parser\n",
    "    return chain.invoke(params)\n",
    "\n",
    "def validate_input(class_name):\n",
    "\n",
    "    prompt_content = \"\"\" consideras que se puede crear una clase formativa con este tema {class_name}, de no tener suficiente informacion o de que el tema no tenga que ver con aspectos educativos dame un NO por respuesta, de lo contrario dame un SI, delimitate a responder con un SI o un NO \"\"\"\n",
    "\n",
    "    appropiate_prompt = PromptTemplate(\n",
    "            input_variables=[\"class_name\"],\n",
    "            template=prompt_content\n",
    "        )\n",
    "\n",
    "    return invoke_chain(appropiate_prompt, {\"class_name\": class_name})\n",
    "\n",
    "\n"
   ]
  },
  {
   "cell_type": "code",
   "execution_count": 54,
   "metadata": {},
   "outputs": [],
   "source": [
    "relevance = get_relevant_info() | llm_instance | parser\n",
    "relevance_params = {\n",
    "    \"class_name\": params[\"class_name\"]\n",
    "}\n",
    "\n",
    "relevante = relevance.invoke(relevance_params)\n",
    "\n"
   ]
  },
  {
   "cell_type": "markdown",
   "metadata": {},
   "source": [
    "### Proceso Parte 1 :  Resultados de Aprendizaje"
   ]
  },
  {
   "cell_type": "code",
   "execution_count": 55,
   "metadata": {},
   "outputs": [
    {
     "name": "stderr",
     "output_type": "stream",
     "text": [
      "C:\\Users\\Mateo Grisales\\AppData\\Local\\Temp\\ipykernel_10236\\1211416754.py:20: RuntimeWarning: coroutine 'get_retriver_result' was never awaited\n",
      "  new_params = {\n",
      "RuntimeWarning: Enable tracemalloc to get the object allocation traceback\n"
     ]
    }
   ],
   "source": [
    "if  validate_input(params[\"class_name\"]) == \"NO\" or relevante == 'NO':\n",
    "\n",
    "  \n",
    "  print(\"El tema que estás buscando no corresponde a un tema formativo, o actualmente no contamos con suficiente información para generar una clase sobre este asunto.\")\n",
    "\n",
    "else:\n",
    "  prompt_template = get_base_prompt()\n",
    "  classes = params[\"class_name\"]\n",
    "  context_query = f\"{params['class_name']}, para grados {params['grade']}\"\n",
    "  context = get_retriver_context(context_query)\n",
    "\n",
    "  dba_query = f\"De los derechos basicos de aprendizaje dame la metodologia de enseñanza para la tematica de ({classes}) dirigida a estudiantes del grado {params['grade']}\"\n",
    "  dba = get_retriver_result(dba_query)\n",
    "\n",
    "  learning_result_query = f\"Dame información de los Estándares Básicos de Competencias y Orientaciones pedagógicas para la clase ({classes}) dirigida a estudiantes del grado {params['grade']}\"\n",
    "  learning_result = get_retriver_result(learning_result_query)\n",
    "\n",
    "  chain = prompt_template | llm_instance | parser\n",
    "\n",
    "  new_params = {\n",
    "            \"class_name\": params[\"class_name\"],\n",
    "                \"target_audience_edu_level\":params[\"target_audience_edu_level\"],\n",
    "                \"grade\": params[\"grade\"],\n",
    "                \"context\": context,\n",
    "                \"dba\": dba,\n",
    "                \"learning_result\": learning_result,\n",
    "                \"date\":  date.today()\n",
    "            } \n",
    "  \n",
    "  result_1 = chain.invoke(new_params)\n",
    "\n",
    "\n"
   ]
  },
  {
   "cell_type": "markdown",
   "metadata": {},
   "source": [
    "### Proceso parte 2 : Conceptos clave"
   ]
  },
  {
   "cell_type": "code",
   "execution_count": 56,
   "metadata": {},
   "outputs": [],
   "source": [
    "key_template = get_key_concepts()\n",
    "\n",
    "chain_key_concepts = key_template | llm_instance | parser\n",
    "key_params = {\n",
    "    \"class_name\": params[\"class_name\"],\n",
    "    \"target_audience_edu_level\":params[\"target_audience_edu_level\"],\n",
    "    \"grade\": params[\"grade\"],\n",
    "    \"context\": context\n",
    "}\n",
    "\n",
    "result_2 = chain_key_concepts.invoke(key_params)"
   ]
  },
  {
   "cell_type": "markdown",
   "metadata": {},
   "source": [
    "### Proceso parte 3 : Actividades de aprendizaje"
   ]
  },
  {
   "cell_type": "code",
   "execution_count": 57,
   "metadata": {},
   "outputs": [
    {
     "name": "stderr",
     "output_type": "stream",
     "text": [
      "C:\\Users\\Mateo Grisales\\AppData\\Local\\Temp\\ipykernel_10236\\942689969.py:4: RuntimeWarning: coroutine 'get_retriver_context' was never awaited\n",
      "  activities_params = {\n",
      "RuntimeWarning: Enable tracemalloc to get the object allocation traceback\n",
      "C:\\Users\\Mateo Grisales\\AppData\\Local\\Temp\\ipykernel_10236\\942689969.py:4: RuntimeWarning: coroutine 'get_retriver_result' was never awaited\n",
      "  activities_params = {\n",
      "RuntimeWarning: Enable tracemalloc to get the object allocation traceback\n"
     ]
    }
   ],
   "source": [
    "activities_template = get_activities_prompt()\n",
    "\n",
    "chain_activities = activities_template | llm_instance | parser\n",
    "activities_params = {\n",
    "    \"class_name\": params[\"class_name\"],\n",
    "    \"target_audience_edu_level\": params[\"target_audience_edu_level\"],\n",
    "    \"grade\": params[\"grade\"],\n",
    "    \"context\": context,\n",
    "    \"dba\": dba\n",
    "}\n",
    "\n",
    "result_3 = chain_activities.invoke(activities_params)"
   ]
  },
  {
   "cell_type": "markdown",
   "metadata": {},
   "source": [
    "### Proceso parte 4 : Actividad evaluativa"
   ]
  },
  {
   "cell_type": "code",
   "execution_count": 58,
   "metadata": {},
   "outputs": [],
   "source": [
    "exam_template = get_exam_prompt()\n",
    "chain_exam = exam_template | llm_instance | parser\n",
    "examn_params = {\n",
    "    \"prompt\": result_1 + '\\n\\n' + result_2 + '\\n\\n' + result_3 \n",
    "}\n",
    "\n",
    "result_4 = chain_exam.invoke(examn_params)"
   ]
  },
  {
   "cell_type": "markdown",
   "metadata": {},
   "source": [
    "### Proceso parte 5 : Coherencia"
   ]
  },
  {
   "cell_type": "code",
   "execution_count": 59,
   "metadata": {},
   "outputs": [],
   "source": [
    "coherence = get_coherence_prompt() | llm_instance | parser\n",
    "coherence_params = {\n",
    "    \"result_1\": result_1,\n",
    "    \"result_2\": result_2,\n",
    "    \"result_3\": result_3,\n",
    "    \"result_4\": result_4,\n",
    "    \"target_audience_edu_level\": params[\"target_audience_edu_level\"]\n",
    "}\n",
    "\n",
    "result_5 = coherence.invoke(coherence_params)"
   ]
  },
  {
   "cell_type": "code",
   "execution_count": 60,
   "metadata": {},
   "outputs": [],
   "source": [
    "if params[\"target_audience_edu_level\"] == \"Preescolar\":\n",
    "    preschool_able = get_preschool_able_prompt() | llm_instance | parser\n",
    "    preschool_able_params = {\"result_5\": result_5}\n",
    "    result_5 = preschool_able.invoke(preschool_able_params)"
   ]
  },
  {
   "cell_type": "code",
   "execution_count": 61,
   "metadata": {},
   "outputs": [
    {
     "name": "stdout",
     "output_type": "stream",
     "text": [
      "$result_1$\n",
      "# ¡Explorando las Máquinas Inteligentes!\n",
      "\n",
      "Fecha de creación: 2025-01-21\n",
      "Nivel educativo: Preescolar\n",
      "\n",
      "Resultados de aprendizaje:\n",
      "\n",
      "1. Identificar máquinas inteligentes en tu hogar y alrededor.\n",
      "2. Desarrollar curiosidad sobre cómo funcionan las máquinas.\n",
      "3. Divertirte aprendiendo sobre máquinas inteligentes a través de juegos.\n",
      "4. Trabajar en equipo y compartir con tus amigos.\n",
      "\n",
      "$result_2$\n",
      "## Conceptos clave:\n",
      "\n",
      "- **Instrucciones**: Pasos que le decimos a una máquina para que haga algo.\n",
      "- **Aprender**: Cuando las máquinas mejoran con la práctica.\n",
      "- **Información**: Lo que las máquinas necesitan para aprender.\n",
      "- **Máquinas inteligentes**: Máquinas que pueden pensar y hacer tareas como las personas.\n",
      "- **Máquina**: Dispositivo que puede seguir instrucciones.\n",
      "- **Patrones**: Formas, colores o tamaños similares.\n",
      "- **Robots**: Máquinas que pueden moverse y hacer tareas.\n",
      "\n",
      "$result_3$\n",
      "## Metodologías\n",
      "\n",
      "- Aprender jugando: Usar juegos divertidos para aprender sobre máquinas inteligentes.\n",
      "- Aprender explorando: Descubrir los conceptos por ti mismo a través de la exploración.\n",
      "- Aprender juntos: Trabajar en equipo y aprender unos de otros.\n",
      "\n",
      "## Actividades de aprendizaje\n",
      "\n",
      "1. Conocer máquinas inteligentes: Contar historias o ver videos sobre robots y máquinas que piensan.\n",
      "2. Encontrar patrones: Juegos de clasificar objetos por colores, formas o tamaños.\n",
      "3. Resolver problemas: Encontrar soluciones creativas a desafíos sencillos.\n",
      "4. Dar instrucciones: Decirle a un amigo o a un robot de juguete qué hacer.\n",
      "5. Ser amables: Hablar sobre usar las máquinas de manera amable y responsable.\n",
      "\n",
      "## Actividades prácticas\n",
      "\n",
      "- Construir robots con materiales reciclados y programarlos para hacer tareas.\n",
      "- Juegos de laberintos y rompecabezas para resolver problemas.\n",
      "- Actividades de programación básica con bloques de colores.\n",
      "- Experimentos con sensores y dispositivos interactivos.\n",
      "\n",
      "## Actividades reflexivas\n",
      "\n",
      "- Hablar sobre cómo las máquinas inteligentes nos ayudan en casa.\n",
      "- Reflexionar sobre ser amables con las máquinas.\n",
      "- Discutir los beneficios y desafíos de las máquinas inteligentes.\n",
      "- Dibujar o contar historias sobre cómo imaginas el futuro con máquinas inteligentes.\n",
      "\n",
      "$result_4$\n",
      "1. ¿Cuál de estas NO es una máquina inteligente?\n",
      "\n",
      "A) Un robot aspiradora que limpia tu casa\n",
      "B) Un asistente virtual como Alexa o Siri\n",
      "C) Un juguete de peluche\n",
      "D) Una aplicación que te recomienda películas\n",
      "\n",
      "2. ¿Qué son las instrucciones?\n",
      "\n",
      "A) Pasos que le decimos a una máquina para que haga algo\n",
      "B) Un robot que puede caminar\n",
      "C) Un tipo de juguete\n",
      "D) Un programa de computadora\n",
      "\n",
      "3. ¿Qué es importante desarrollar al aprender sobre máquinas inteligentes?\n",
      "\n",
      "A) Correr rápido\n",
      "B) Observar y ser curioso\n",
      "C) Cantar canciones\n",
      "D) Contar hasta 100\n",
      "\n",
      "4. ¿Qué actividad te ayuda a resolver problemas?\n",
      "\n",
      "A) Jugar videojuegos\n",
      "B) Resolver laberintos y rompecabezas\n",
      "C) Pintar un dibujo\n",
      "D) Saltar la cuerda\n",
      "\n",
      "5. ¿Qué es un robot?\n",
      "\n",
      "A) Un animal doméstico\n",
      "B) Una máquina que puede moverse y hacer tareas\n",
      "C) Un tipo de juguete\n",
      "D) Un programa de computadora\n",
      "\n",
      "6. ¿Qué es importante al usar máquinas?\n",
      "\n",
      "A) Ser amable y respetuoso\n",
      "B) Gritar y hacer ruido\n",
      "C) Romper las cosas\n",
      "D) Ignorar las instrucciones\n",
      "\n",
      "7. ¿Qué actividad te ayuda a aprender sobre programación?\n",
      "\n",
      "A) Dar instrucciones a un amigo\n",
      "B) Cantar una canción\n",
      "C) Correr en el patio\n",
      "D) Dibujar un paisaje\n",
      "\n",
      "8. ¿Qué es importante al trabajar en equipo?\n",
      "\n",
      "A) Compartir y colaborar\n",
      "B) Pelear y discutir\n",
      "C) Ignorar a los demás\n",
      "D) Trabajar solo\n"
     ]
    }
   ],
   "source": [
    "print(result_5)"
   ]
  },
  {
   "cell_type": "code",
   "execution_count": 62,
   "metadata": {},
   "outputs": [],
   "source": [
    "def split_results(full_text):\n",
    "    final_results = {}\n",
    "    sections = full_text.split(\"$result_\")\n",
    "\n",
    "    for section in sections:\n",
    "        if section.strip(): \n",
    "            section_number, content = section.split(\"$\", 1)\n",
    "            key = f\"final_result_{section_number.strip()}\"\n",
    "            final_results[key] = content.strip()\n",
    "\n",
    "    return final_results\n",
    "\n",
    "results = split_results(result_5)\n",
    "\n",
    "result_1 = results.get(\"result_1\", \"\")\n",
    "result_2 = results.get(\"result_2\", \"\")\n",
    "result_3 = results.get(\"result_3\", \"\")\n",
    "result_4 = results.get(\"result_4\", \"\")"
   ]
  },
  {
   "cell_type": "markdown",
   "metadata": {},
   "source": [
    "# Ouput"
   ]
  },
  {
   "cell_type": "code",
   "execution_count": 63,
   "metadata": {},
   "outputs": [
    {
     "name": "stdout",
     "output_type": "stream",
     "text": [
      "\n",
      "\n",
      "\n",
      "\n",
      "\n",
      "\n",
      "\n"
     ]
    }
   ],
   "source": [
    "print(result_1)\n",
    "print()\n",
    "print(result_2)\n",
    "print()\n",
    "print(result_3)\n",
    "print()\n",
    "print(result_4)"
   ]
  },
  {
   "cell_type": "markdown",
   "metadata": {},
   "source": [
    "# ¡Explorando la Inteligencia Artificial!\n",
    "\n",
    "Fecha de creación: 2025-01-20\n",
    "\n",
    "Nivel educativo: Preescolar\n",
    "\n",
    "Resultados de aprendizaje:\n",
    "\n",
    "1. Identificar ejemplos de Inteligencia Artificial en su entorno cotidiano.\n",
    "2. Reconocer la importancia de la Inteligencia Artificial en diversas áreas.\n",
    "3. Desarrollar habilidades de pensamiento crítico y resolución de problemas a través de actividades lúdicas relacionadas con la Inteligencia Artificial.\n",
    "4. Fomentar la curiosidad y el interés por el aprendizaje continuo en el campo de la Inteligencia Artificial.\n",
    "\n",
    "## Conceptos clave:\n",
    "\n",
    "- **Algoritmo**: Conjunto de instrucciones o pasos que se siguen para resolver un problema o realizar una tarea.\n",
    "- **Aprendizaje automático**: Capacidad de las máquinas para aprender y mejorar a partir de la experiencia.\n",
    "- **Datos**: Información que se utiliza para enseñar a las máquinas inteligentes.\n",
    "- **Inteligencia artificial**: Máquinas o computadoras que pueden pensar y aprender como los humanos.\n",
    "- **Máquina**: Dispositivo o sistema que realiza tareas de manera automática.\n",
    "- **Reconocimiento de patrones**: Capacidad de identificar y clasificar formas o dibujos.\n",
    "- **Robótica**: Estudio de los robots, máquinas que pueden moverse y realizar tareas.\n",
    "\n",
    "## Metodologías\n",
    "\n",
    "- Aprendizaje basado en juegos y actividades divertidas, aprovechando el interés natural de los niños por jugar.\n",
    "- Enfoque multisensorial, utilizando recursos visuales, auditivos y táctiles para facilitar la comprensión.\n",
    "- Aprendizaje colaborativo, fomentando el trabajo en equipo y la interacción social.\n",
    "\n",
    "## Actividades de aprendizaje\n",
    "\n",
    "1. Introducción a la Inteligencia Artificial a través de cuentos y personajes animados.\n",
    "2. Exploración de ejemplos cotidianos de IA, como asistentes virtuales o juguetes inteligentes.\n",
    "3. Actividades de reconocimiento de patrones y categorización de objetos.\n",
    "4. Juegos de resolución de problemas sencillos utilizando instrucciones paso a paso.\n",
    "5. Creación de robots sencillos con materiales reciclados y programación básica.\n",
    "\n",
    "## Actividades prácticas\n",
    "\n",
    "- Construir robots sencillos con materiales reciclados y programarlos para realizar tareas simples.\n",
    "- Juegos de reconocimiento de patrones y categorización de objetos.\n",
    "- Actividades de programación básica utilizando herramientas visuales y bloques de código.\n",
    "\n",
    "## Actividades reflexivas\n",
    "\n",
    "- Discusiones grupales sobre cómo la IA nos ayuda en la vida diaria.\n",
    "- Reflexiones sobre la importancia de ser amables con las máquinas inteligentes.\n",
    "- Debates sobre cómo podemos usar la IA para hacer cosas buenas.\n",
    "\n",
    "1. ¿Cuál de las siguientes opciones NO es un ejemplo de Inteligencia Artificial en tu entorno cotidiano?\n",
    "\n",
    "A) Un asistente virtual como Alexa o Siri\n",
    "B) Un juguete que puede hablar y moverse\n",
    "C) Un robot que limpia tu casa\n",
    "D) Un lápiz de colores\n",
    "\n",
    "2. ¿Qué es un algoritmo?\n",
    "\n",
    "A) Un conjunto de instrucciones para resolver un problema\n",
    "B) Un tipo de máquina inteligente\n",
    "C) Un programa de computadora\n",
    "D) Un juguete que puede aprender\n",
    "\n",
    "3. ¿Cuál de estas actividades NO está relacionada con la Inteligencia Artificial?\n",
    "\n",
    "A) Jugar videojuegos\n",
    "B) Reconocer patrones en imágenes\n",
    "C) Programar un robot\n",
    "D) Pintar un dibujo\n",
    "\n",
    "4. ¿Qué es el aprendizaje automático?\n",
    "\n",
    "A) Un tipo de juguete inteligente\n",
    "B) La capacidad de las máquinas para aprender por sí mismas\n",
    "C) Un algoritmo para resolver problemas\n",
    "D) Un programa de computadora\n",
    "\n",
    "5. ¿Qué es la robótica?\n",
    "\n",
    "A) El estudio de los robots\n",
    "B) Un tipo de juguete\n",
    "C) Un programa de computadora\n",
    "D) Un algoritmo\n",
    "\n",
    "6. ¿Cuál de estas opciones NO es un concepto clave de la Inteligencia Artificial?\n",
    "\n",
    "A) Algoritmo\n",
    "B) Aprendizaje automático\n",
    "C) Datos\n",
    "D) Pintura\n",
    "\n",
    "7. ¿Qué son los datos en la Inteligencia Artificial?\n",
    "\n",
    "A) Un tipo de máquina\n",
    "B) Un algoritmo\n",
    "C) Información que se utiliza para enseñar a las máquinas inteligentes\n",
    "D) Un juguete inteligente\n",
    "\n",
    "8. ¿Qué es el reconocimiento de patrones?\n",
    "\n",
    "A) Un tipo de juego\n",
    "B) La capacidad de identificar y clasificar formas o dibujos\n",
    "C) Un algoritmo\n",
    "D) Un programa de computadora"
   ]
  },
  {
   "cell_type": "markdown",
   "metadata": {},
   "source": []
  }
 ],
 "metadata": {
  "kernelspec": {
   "display_name": "Python 3",
   "language": "python",
   "name": "python3"
  },
  "language_info": {
   "codemirror_mode": {
    "name": "ipython",
    "version": 3
   },
   "file_extension": ".py",
   "mimetype": "text/x-python",
   "name": "python",
   "nbconvert_exporter": "python",
   "pygments_lexer": "ipython3",
   "version": "3.13.1"
  }
 },
 "nbformat": 4,
 "nbformat_minor": 2
}

{
 "cells": [
  {
   "cell_type": "markdown",
   "metadata": {},
   "source": [
    "### Inicio"
   ]
  },
  {
   "cell_type": "code",
   "execution_count": 1,
   "metadata": {},
   "outputs": [],
   "source": [
    "from datetime import date\n",
    "import os\n",
    "os.environ[\"AWS_PROFILE\"] = \"men\"\n",
    "os.environ['AWS_DEFAULT_REGION'] = 'us-east-1'"
   ]
  },
  {
   "cell_type": "code",
   "execution_count": null,
   "metadata": {},
   "outputs": [
    {
     "name": "stdout",
     "output_type": "stream",
     "text": [
      "Collecting langchain_aws\n",
      "  Downloading langchain_aws-0.2.11-py3-none-any.whl.metadata (3.2 kB)\n",
      "Collecting boto3>=1.35.74 (from langchain_aws)\n",
      "  Downloading boto3-1.36.2-py3-none-any.whl.metadata (6.6 kB)\n",
      "Requirement already satisfied: langchain-core<0.4.0,>=0.3.27 in c:\\users\\mateo grisales\\anaconda3\\lib\\site-packages (from langchain_aws) (0.3.30)\n",
      "Requirement already satisfied: numpy<2,>=1 in c:\\users\\mateo grisales\\anaconda3\\lib\\site-packages (from langchain_aws) (1.26.4)\n",
      "Requirement already satisfied: pydantic<3,>=2 in c:\\users\\mateo grisales\\anaconda3\\lib\\site-packages (from langchain_aws) (2.10.5)\n",
      "Collecting botocore<1.37.0,>=1.36.2 (from boto3>=1.35.74->langchain_aws)\n",
      "  Downloading botocore-1.36.2-py3-none-any.whl.metadata (5.7 kB)\n",
      "Requirement already satisfied: jmespath<2.0.0,>=0.7.1 in c:\\users\\mateo grisales\\anaconda3\\lib\\site-packages (from boto3>=1.35.74->langchain_aws) (1.0.1)\n",
      "Collecting s3transfer<0.12.0,>=0.11.0 (from boto3>=1.35.74->langchain_aws)\n",
      "  Downloading s3transfer-0.11.1-py3-none-any.whl.metadata (1.7 kB)\n",
      "Requirement already satisfied: PyYAML>=5.3 in c:\\users\\mateo grisales\\anaconda3\\lib\\site-packages (from langchain-core<0.4.0,>=0.3.27->langchain_aws) (6.0.1)\n",
      "Requirement already satisfied: jsonpatch<2.0,>=1.33 in c:\\users\\mateo grisales\\anaconda3\\lib\\site-packages (from langchain-core<0.4.0,>=0.3.27->langchain_aws) (1.33)\n",
      "Requirement already satisfied: langsmith<0.3,>=0.1.125 in c:\\users\\mateo grisales\\anaconda3\\lib\\site-packages (from langchain-core<0.4.0,>=0.3.27->langchain_aws) (0.2.11)\n",
      "Requirement already satisfied: packaging<25,>=23.2 in c:\\users\\mateo grisales\\anaconda3\\lib\\site-packages (from langchain-core<0.4.0,>=0.3.27->langchain_aws) (24.2)\n",
      "Requirement already satisfied: tenacity!=8.4.0,<10.0.0,>=8.1.0 in c:\\users\\mateo grisales\\anaconda3\\lib\\site-packages (from langchain-core<0.4.0,>=0.3.27->langchain_aws) (8.2.2)\n",
      "Requirement already satisfied: typing-extensions>=4.7 in c:\\users\\mateo grisales\\anaconda3\\lib\\site-packages (from langchain-core<0.4.0,>=0.3.27->langchain_aws) (4.12.2)\n",
      "Requirement already satisfied: annotated-types>=0.6.0 in c:\\users\\mateo grisales\\anaconda3\\lib\\site-packages (from pydantic<3,>=2->langchain_aws) (0.7.0)\n",
      "Requirement already satisfied: pydantic-core==2.27.2 in c:\\users\\mateo grisales\\anaconda3\\lib\\site-packages (from pydantic<3,>=2->langchain_aws) (2.27.2)\n",
      "Requirement already satisfied: python-dateutil<3.0.0,>=2.1 in c:\\users\\mateo grisales\\anaconda3\\lib\\site-packages (from botocore<1.37.0,>=1.36.2->boto3>=1.35.74->langchain_aws) (2.8.2)\n",
      "Requirement already satisfied: urllib3!=2.2.0,<3,>=1.25.4 in c:\\users\\mateo grisales\\anaconda3\\lib\\site-packages (from botocore<1.37.0,>=1.36.2->boto3>=1.35.74->langchain_aws) (2.0.7)\n",
      "Requirement already satisfied: jsonpointer>=1.9 in c:\\users\\mateo grisales\\anaconda3\\lib\\site-packages (from jsonpatch<2.0,>=1.33->langchain-core<0.4.0,>=0.3.27->langchain_aws) (2.1)\n",
      "Requirement already satisfied: httpx<1,>=0.23.0 in c:\\users\\mateo grisales\\anaconda3\\lib\\site-packages (from langsmith<0.3,>=0.1.125->langchain-core<0.4.0,>=0.3.27->langchain_aws) (0.28.1)\n",
      "Requirement already satisfied: orjson<4.0.0,>=3.9.14 in c:\\users\\mateo grisales\\anaconda3\\lib\\site-packages (from langsmith<0.3,>=0.1.125->langchain-core<0.4.0,>=0.3.27->langchain_aws) (3.10.15)\n",
      "Requirement already satisfied: requests<3,>=2 in c:\\users\\mateo grisales\\anaconda3\\lib\\site-packages (from langsmith<0.3,>=0.1.125->langchain-core<0.4.0,>=0.3.27->langchain_aws) (2.31.0)\n",
      "Requirement already satisfied: requests-toolbelt<2.0.0,>=1.0.0 in c:\\users\\mateo grisales\\anaconda3\\lib\\site-packages (from langsmith<0.3,>=0.1.125->langchain-core<0.4.0,>=0.3.27->langchain_aws) (1.0.0)\n",
      "Requirement already satisfied: anyio in c:\\users\\mateo grisales\\anaconda3\\lib\\site-packages (from httpx<1,>=0.23.0->langsmith<0.3,>=0.1.125->langchain-core<0.4.0,>=0.3.27->langchain_aws) (4.2.0)\n",
      "Requirement already satisfied: certifi in c:\\users\\mateo grisales\\anaconda3\\lib\\site-packages (from httpx<1,>=0.23.0->langsmith<0.3,>=0.1.125->langchain-core<0.4.0,>=0.3.27->langchain_aws) (2024.2.2)\n",
      "Requirement already satisfied: httpcore==1.* in c:\\users\\mateo grisales\\anaconda3\\lib\\site-packages (from httpx<1,>=0.23.0->langsmith<0.3,>=0.1.125->langchain-core<0.4.0,>=0.3.27->langchain_aws) (1.0.7)\n",
      "Requirement already satisfied: idna in c:\\users\\mateo grisales\\anaconda3\\lib\\site-packages (from httpx<1,>=0.23.0->langsmith<0.3,>=0.1.125->langchain-core<0.4.0,>=0.3.27->langchain_aws) (3.4)\n",
      "Requirement already satisfied: h11<0.15,>=0.13 in c:\\users\\mateo grisales\\anaconda3\\lib\\site-packages (from httpcore==1.*->httpx<1,>=0.23.0->langsmith<0.3,>=0.1.125->langchain-core<0.4.0,>=0.3.27->langchain_aws) (0.14.0)\n",
      "Requirement already satisfied: six>=1.5 in c:\\users\\mateo grisales\\anaconda3\\lib\\site-packages (from python-dateutil<3.0.0,>=2.1->botocore<1.37.0,>=1.36.2->boto3>=1.35.74->langchain_aws) (1.16.0)\n",
      "Requirement already satisfied: charset-normalizer<4,>=2 in c:\\users\\mateo grisales\\anaconda3\\lib\\site-packages (from requests<3,>=2->langsmith<0.3,>=0.1.125->langchain-core<0.4.0,>=0.3.27->langchain_aws) (2.0.4)\n",
      "Requirement already satisfied: sniffio>=1.1 in c:\\users\\mateo grisales\\anaconda3\\lib\\site-packages (from anyio->httpx<1,>=0.23.0->langsmith<0.3,>=0.1.125->langchain-core<0.4.0,>=0.3.27->langchain_aws) (1.3.0)\n",
      "Downloading langchain_aws-0.2.11-py3-none-any.whl (95 kB)\n",
      "   ---------------------------------------- 0.0/95.4 kB ? eta -:--:--\n",
      "   ------------ --------------------------- 30.7/95.4 kB 640.0 kB/s eta 0:00:01\n",
      "   ---------------------------------------- 95.4/95.4 kB 1.4 MB/s eta 0:00:00\n",
      "Downloading boto3-1.36.2-py3-none-any.whl (139 kB)\n",
      "   ---------------------------------------- 0.0/139.2 kB ? eta -:--:--\n",
      "   ---------------------------------------- 139.2/139.2 kB 4.2 MB/s eta 0:00:00\n",
      "Downloading botocore-1.36.2-py3-none-any.whl (13.3 MB)\n",
      "   ---------------------------------------- 0.0/13.3 MB ? eta -:--:--\n",
      "   --- ------------------------------------ 1.0/13.3 MB 32.4 MB/s eta 0:00:01\n",
      "   ----- ---------------------------------- 1.9/13.3 MB 29.4 MB/s eta 0:00:01\n",
      "   -------- ------------------------------- 2.9/13.3 MB 23.3 MB/s eta 0:00:01\n",
      "   ----------------- ---------------------- 5.9/13.3 MB 34.0 MB/s eta 0:00:01\n",
      "   ---------------------------- ----------- 9.5/13.3 MB 43.4 MB/s eta 0:00:01\n",
      "   ------------------------------------ --- 12.1/13.3 MB 50.4 MB/s eta 0:00:01\n",
      "   ---------------------------------------  13.3/13.3 MB 73.1 MB/s eta 0:00:01\n",
      "   ---------------------------------------- 13.3/13.3 MB 46.9 MB/s eta 0:00:00\n",
      "Downloading s3transfer-0.11.1-py3-none-any.whl (84 kB)\n",
      "   ---------------------------------------- 0.0/84.1 kB ? eta -:--:--\n",
      "   ---------------------------------------- 84.1/84.1 kB 4.6 MB/s eta 0:00:00\n",
      "Installing collected packages: botocore, s3transfer, boto3, langchain_aws\n",
      "  Attempting uninstall: botocore\n",
      "    Found existing installation: botocore 1.34.154\n",
      "    Uninstalling botocore-1.34.154:\n",
      "      Successfully uninstalled botocore-1.34.154\n",
      "  Attempting uninstall: s3transfer\n",
      "    Found existing installation: s3transfer 0.10.2\n",
      "    Uninstalling s3transfer-0.10.2:\n",
      "      Successfully uninstalled s3transfer-0.10.2\n",
      "  Attempting uninstall: boto3\n",
      "    Found existing installation: boto3 1.34.154\n",
      "    Uninstalling boto3-1.34.154:\n",
      "      Successfully uninstalled boto3-1.34.154\n",
      "Successfully installed boto3-1.36.2 botocore-1.36.2 langchain_aws-0.2.11 s3transfer-0.11.1\n"
     ]
    },
    {
     "name": "stderr",
     "output_type": "stream",
     "text": [
      "ERROR: pip's dependency resolver does not currently take into account all the packages that are installed. This behaviour is the source of the following dependency conflicts.\n",
      "aiobotocore 2.7.0 requires botocore<1.31.65,>=1.31.16, but you have botocore 1.36.2 which is incompatible.\n"
     ]
    }
   ],
   "source": [
    "#!pip install langchain\n",
    "#!pip install langchain_aws"
   ]
  },
  {
   "cell_type": "code",
   "execution_count": 5,
   "metadata": {},
   "outputs": [],
   "source": [
    "from langchain.prompts import PromptTemplate"
   ]
  },
  {
   "cell_type": "code",
   "execution_count": null,
   "metadata": {},
   "outputs": [],
   "source": [
    "from langchain_aws import BedrockLLM\n",
    "from langchain_aws import ChatBedrock, ChatBedrockConverse"
   ]
  },
  {
   "cell_type": "code",
   "execution_count": 21,
   "metadata": {},
   "outputs": [],
   "source": [
    "params = {\n",
    "    \"class_name\":\"pedo\",\n",
    "    \"grade\":\"italiano\"\n",
    "}"
   ]
  },
  {
   "cell_type": "code",
   "execution_count": 22,
   "metadata": {},
   "outputs": [],
   "source": [
    "def get_relevant_info():\n",
    "    prompt_content = \"\"\"\n",
    "    Como se dice \"{class_name}\" en ingles y en {grade}?\n",
    "    \"\"\"\n",
    "    \n",
    "    return PromptTemplate(\n",
    "        input_variables=[\"class_name\", \"grade\"],\n",
    "        template=prompt_content,\n",
    "    )\n"
   ]
  },
  {
   "cell_type": "code",
   "execution_count": 23,
   "metadata": {},
   "outputs": [],
   "source": [
    "from langchain_core.output_parsers import StrOutputParser"
   ]
  },
  {
   "cell_type": "code",
   "execution_count": 24,
   "metadata": {},
   "outputs": [],
   "source": [
    "llm = ChatBedrockConverse(model=\"anthropic.claude-3-sonnet-20240229-v1:0\", \n",
    "                          temperature=0.02, \n",
    "                          max_tokens=None)\n",
    "\n",
    "relevance = get_relevant_info() | llm | StrOutputParser()s\n",
    "\n",
    "relevance_params = {\n",
    "    \"class_name\": params[\"class_name\"],\n",
    "    \"grade\": params[\"grade\"]\n",
    "}\n",
    "\n",
    "relevante = relevance.invoke(relevance_params)"
   ]
  },
  {
   "cell_type": "code",
   "execution_count": 25,
   "metadata": {},
   "outputs": [
    {
     "name": "stdout",
     "output_type": "stream",
     "text": [
      "En inglés, la palabra \"pedo\" se traduce como \"fart\". En italiano, se dice \"peto\".\n",
      "\n",
      "Sin embargo, es importante tener en cuenta que estas palabras pueden considerarse groseras o inapropiadas en ciertos contextos formales. Se recomienda utilizar un lenguaje más educado o eufemismos en situaciones que lo requieran.\n"
     ]
    }
   ],
   "source": [
    "print(relevante)"
   ]
  },
  {
   "cell_type": "code",
   "execution_count": 26,
   "metadata": {},
   "outputs": [],
   "source": [
    "def get_wimbledon_final():\n",
    "    prompt_content = \"\"\"\n",
    "    Quien fue el ganador de wimbledon en el año {year}?\n",
    "    \"\"\"\n",
    "    \n",
    "    return PromptTemplate(\n",
    "        input_variables=[\"year\"],\n",
    "        template=prompt_content,\n",
    "    )"
   ]
  },
  {
   "cell_type": "code",
   "execution_count": 27,
   "metadata": {},
   "outputs": [
    {
     "name": "stdout",
     "output_type": "stream",
     "text": [
      "Lamentablemente, no tengo información sobre los ganadores de Wimbledon en el año 2024, ya que ese torneo aún no se ha disputado. Wimbledon es uno de los torneos de tenis más importantes del mundo y se juega anualmente en Londres, Inglaterra. Los ganadores de las ediciones más recientes han sido:\n",
      "\n",
      "2022:\n",
      "- Individuales masculino: Novak Djokovic (Serbia)\n",
      "- Individuales femenino: Elena Rybakina (Kazajistán)\n",
      "\n",
      "2021: \n",
      "- Individuales masculino: Novak Djokovic (Serbia)  \n",
      "- Individuales femenino: Ashleigh Barty (Australia)\n",
      "\n",
      "2020: Torneo cancelado debido a la pandemia de COVID-19\n",
      "\n",
      "2019:\n",
      "- Individuales masculino: Novak Djokovic (Serbia)\n",
      "- Individuales femenino: Simona Halep (Rumanía)\n",
      "\n",
      "La edición de 2024 se disputará presumiblemente entre finales de junio y mediados de julio de ese año en las canchas de césped de el All England Lawn Tennis and Croquet Club. Tendremos que esperar hasta entonces para conocer a los nuevos campeones.\n"
     ]
    }
   ],
   "source": [
    "get_wimbledon_final = get_wimbledon_final() | llm | StrOutputParser()\n",
    "\n",
    "print(get_wimbledon_final.invoke({\"year\": \"2024\"}))"
   ]
  }
 ],
 "metadata": {
  "kernelspec": {
   "display_name": "base",
   "language": "python",
   "name": "python3"
  },
  "language_info": {
   "codemirror_mode": {
    "name": "ipython",
    "version": 3
   },
   "file_extension": ".py",
   "mimetype": "text/x-python",
   "name": "python",
   "nbconvert_exporter": "python",
   "pygments_lexer": "ipython3",
   "version": "3.11.7"
  }
 },
 "nbformat": 4,
 "nbformat_minor": 2
}

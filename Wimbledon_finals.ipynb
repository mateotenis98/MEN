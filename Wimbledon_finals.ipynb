{
 "cells": [
  {
   "cell_type": "markdown",
   "metadata": {},
   "source": [
    "### Inicio"
   ]
  },
  {
   "cell_type": "code",
   "execution_count": 1,
   "metadata": {},
   "outputs": [],
   "source": [
    "from datetime import date\n",
    "import os\n",
    "os.environ[\"AWS_PROFILE\"] = \"men\"\n",
    "os.environ['AWS_DEFAULT_REGION'] = 'us-east-1'"
   ]
  },
  {
   "cell_type": "code",
   "execution_count": 2,
   "metadata": {},
   "outputs": [],
   "source": [
    "params = {\n",
    "    \"class_name\":\"Inteligencia Artificial\",\n",
    "    \"target_audience_edu_level\":\"preescolar\",\n",
    "    \"grade\":\"no aplica\"\n",
    "}"
   ]
  },
  {
   "cell_type": "markdown",
   "metadata": {},
   "source": [
    "### Retriever"
   ]
  },
  {
   "cell_type": "code",
   "execution_count": 3,
   "metadata": {},
   "outputs": [],
   "source": [
    "from langchain_aws.retrievers.bedrock import AmazonKnowledgeBasesRetriever"
   ]
  },
  {
   "cell_type": "code",
   "execution_count": 4,
   "metadata": {},
   "outputs": [],
   "source": [
    "kb_context_id = \"BC3JS4SRQG\"\n",
    "kb_result_id = \"MQPBML7IQ2\"\n",
    "\n",
    "# Base knowledge\n",
    "retriever_context = AmazonKnowledgeBasesRetriever(\n",
    "    knowledge_base_id = kb_context_id,\n",
    "    retrieval_config = {\n",
    "        \"vectorSearchConfiguration\": {\n",
    "            \"numberOfResults\": 4,\n",
    "            'overrideSearchType': \"SEMANTIC\" # optional\n",
    "        }\n",
    "    },\n",
    ")\n",
    "\n",
    "retriever_result = AmazonKnowledgeBasesRetriever(\n",
    "    knowledge_base_id = kb_result_id,\n",
    "    retrieval_config = {\n",
    "        \"vectorSearchConfiguration\": {\n",
    "            \"numberOfResults\": 4,\n",
    "            'overrideSearchType': \"SEMANTIC\" # optional\n",
    "        }\n",
    "    },\n",
    ")"
   ]
  },
  {
   "cell_type": "code",
   "execution_count": 5,
   "metadata": {},
   "outputs": [],
   "source": [
    "def get_retriver_docs(docs):    \n",
    "    context = \"\\n\".join([doc.page_content for doc in docs])  # Iteramos de forma síncrona si 'docs' es una lista\n",
    "    return context"
   ]
  },
  {
   "cell_type": "code",
   "execution_count": 6,
   "metadata": {},
   "outputs": [],
   "source": [
    "async def get_retriver_context(params):\n",
    "    docs = await retriever_context.ainvoke(params)\n",
    "    return get_retriver_docs(docs)"
   ]
  },
  {
   "cell_type": "code",
   "execution_count": 7,
   "metadata": {},
   "outputs": [],
   "source": [
    "async def get_retriver_result(params):\n",
    "    docs = await retriever_result.ainvoke(params)\n",
    "    return get_retriver_docs(docs)"
   ]
  },
  {
   "cell_type": "markdown",
   "metadata": {},
   "source": [
    "### Prompts"
   ]
  },
  {
   "cell_type": "code",
   "execution_count": 8,
   "metadata": {},
   "outputs": [],
   "source": [
    "from langchain.prompts import PromptTemplate"
   ]
  },
  {
   "cell_type": "code",
   "execution_count": 9,
   "metadata": {},
   "outputs": [],
   "source": [
    "def get_relevant_info():\n",
    "    prompt_content = \"\"\"\n",
    "    Analiza si el tema \"{class_name}\" es adecuado para una clase educativa. Evalúa si cumple con las siguientes condiciones:\n",
    "    1. Es un tema educativo que se puede enseñar en un entorno académico.\n",
    "    2. No es ofensivo, vulgar, ni inapropiado para un entorno educativo.\n",
    "    3. Tiene suficiente contenido o contexto educativo para ser desarrollado en una clase.\n",
    "    4. Si el tema es el nombre de una persona:\n",
    "       - Responde \"NO\" si la persona no es conocida por su relevancia educativa o histórica.\n",
    "       - Responde \"SI\" únicamente si la persona es reconocida por una contribución educativa, científica, histórica, o cultural significativa.\n",
    "\n",
    "    Responde únicamente con un **SI** si el tema es adecuado para una clase educativa o un **NO** si no lo es. No agregues ninguna explicación ni comentario adicional.\n",
    "    \"\"\"\n",
    "    \n",
    "    return PromptTemplate(\n",
    "        input_variables=[\"class_name\"],\n",
    "        template=prompt_content,\n",
    "    )\n",
    "\n"
   ]
  },
  {
   "cell_type": "code",
   "execution_count": 10,
   "metadata": {},
   "outputs": [],
   "source": [
    "def get_base_prompt():\n",
    "    with open(\"get_base_prompt.sty\", \"r\", encoding=\"utf-8\") as file:\n",
    "        prompt_content = file.read()\n",
    "\n",
    "    return PromptTemplate(\n",
    "        input_variables=[\"target_audience_edu_level\", \"class_name\", \"grade\", \"date\", \"context\", \"learning_result\"],\n",
    "        template=prompt_content\n",
    "    )"
   ]
  },
  {
   "cell_type": "code",
   "execution_count": 11,
   "metadata": {},
   "outputs": [],
   "source": [
    "def get_key_concepts():\n",
    "    with open(\"get_key_concepts.sty\", \"r\", encoding=\"utf-8\") as file:\n",
    "        prompt_content = file.read()\n",
    "    \n",
    "    return PromptTemplate(\n",
    "            input_variables=[\"target_audience_edu_level\", \"class_name\", \"grade\", \"context\"],\n",
    "            template=prompt_content\n",
    "        )"
   ]
  },
  {
   "cell_type": "code",
   "execution_count": 12,
   "metadata": {},
   "outputs": [],
   "source": [
    "def get_activities_prompt():\n",
    "    with open(\"get_activities_prompt.sty\", \"r\", encoding=\"utf-8\") as file:\n",
    "        prompt_content = file.read()\n",
    "    \n",
    "    return PromptTemplate(\n",
    "            input_variables=[\"target_audience_edu_level\", \"class_name\", \"grade\", \"context\", \"dba\"],\n",
    "            template=prompt_content\n",
    "        )"
   ]
  },
  {
   "cell_type": "code",
   "execution_count": 13,
   "metadata": {},
   "outputs": [],
   "source": [
    "def get_exam_prompt():\n",
    "    with open(\"get_exam_prompt.sty\", \"r\", encoding=\"utf-8\") as file:\n",
    "        prompt_content = file.read()\n",
    "    \n",
    "    return PromptTemplate(\n",
    "            input_variables=[\"prompt\"],\n",
    "            template=prompt_content\n",
    "        )"
   ]
  },
  {
   "cell_type": "markdown",
   "metadata": {},
   "source": [
    "### Definir el LLM\n"
   ]
  },
  {
   "cell_type": "code",
   "execution_count": 14,
   "metadata": {},
   "outputs": [],
   "source": [
    "from langchain_aws import BedrockLLM\n",
    "from langchain_aws import ChatBedrock, ChatBedrockConverse\n",
    "\n",
    "\n",
    "bedrock_model = \"anthropic.claude-3-sonnet-20240229-v1:0\"\n",
    "\n",
    "\n",
    "llm_instance = ChatBedrockConverse(\n",
    "    model=bedrock_model,\n",
    "    temperature=0.02,\n",
    "    max_tokens=None\n",
    ")\n"
   ]
  },
  {
   "cell_type": "markdown",
   "metadata": {},
   "source": [
    "### Objetos necesarios para definir la cadena y poder invocarla"
   ]
  },
  {
   "cell_type": "code",
   "execution_count": 15,
   "metadata": {},
   "outputs": [],
   "source": [
    "from langchain_core.output_parsers import StrOutputParser\n",
    "\n",
    "parser = StrOutputParser()"
   ]
  },
  {
   "cell_type": "code",
   "execution_count": 16,
   "metadata": {},
   "outputs": [],
   "source": [
    "\n",
    "def invoke_chain(prompt_template, params):\n",
    "    \n",
    "    # Create the LLM chain with prompt and parser\n",
    "    chain = prompt_template | llm_instance | parser\n",
    "    return chain.invoke(params)\n",
    "\n",
    "def validate_input(class_name):\n",
    "\n",
    "    prompt_content = \"\"\" consideras que se puede crear una clase formativa con este tema {class_name}, de no tener suficiente informacion o de que el tema no tenga que ver con aspectos educativos dame un NO por respuesta, de lo contrario dame un SI, delimitate a responder con un SI o un NO \"\"\"\n",
    "\n",
    "    appropiate_prompt = PromptTemplate(\n",
    "            input_variables=[\"class_name\"],\n",
    "            template=prompt_content\n",
    "        )\n",
    "\n",
    "    return invoke_chain(appropiate_prompt, {\"class_name\": class_name})\n",
    "\n",
    "\n"
   ]
  },
  {
   "cell_type": "code",
   "execution_count": 17,
   "metadata": {},
   "outputs": [],
   "source": [
    "relevance = get_relevant_info() | llm_instance | parser\n",
    "relevance_params = {\n",
    "    \"class_name\": params[\"class_name\"]\n",
    "}\n",
    "\n",
    "relevante = relevance.invoke(relevance_params)\n",
    "\n"
   ]
  },
  {
   "cell_type": "markdown",
   "metadata": {},
   "source": [
    "### Proceso Parte 1 :  Resultados de Aprendizaje"
   ]
  },
  {
   "cell_type": "code",
   "execution_count": 18,
   "metadata": {},
   "outputs": [],
   "source": [
    "if  validate_input(params[\"class_name\"]) == \"NO\" or relevante == 'NO':\n",
    "\n",
    "  \n",
    "  print(\"El tema que estás buscando no corresponde a un tema formativo, o actualmente no contamos con suficiente información para generar una clase sobre este asunto.\")\n",
    "\n",
    "else:\n",
    "  prompt_template = get_base_prompt()\n",
    "  classes = params[\"class_name\"]\n",
    "  context_query = f\"{params['class_name']}, para grados {params['grade']}\"\n",
    "  context = get_retriver_context(context_query)\n",
    "\n",
    "  dba_query = f\"De los derechos basicos de aprendizaje dame la metodologia de enseñanza para la tematica de ({classes}) dirigida a estudiantes del grado {params['grade']}\"\n",
    "  dba = get_retriver_result(dba_query)\n",
    "\n",
    "  learning_result_query = f\"Dame información de los Estándares Básicos de Competencias y Orientaciones pedagógicas para la clase ({classes}) dirigida a estudiantes del grado {params['grade']}\"\n",
    "  learning_result = get_retriver_result(learning_result_query)\n",
    "\n",
    "  chain = prompt_template | llm_instance | parser\n",
    "\n",
    "  new_params = {\n",
    "            \"class_name\": params[\"class_name\"],\n",
    "                \"target_audience_edu_level\":params[\"target_audience_edu_level\"],\n",
    "                \"grade\": params[\"grade\"],\n",
    "                \"context\": context,\n",
    "                \"dba\": dba,\n",
    "                \"learning_result\": learning_result,\n",
    "                \"date\":  date.today()\n",
    "            } \n",
    "  \n",
    "  result_1 = chain.invoke(new_params)\n",
    "\n",
    "\n"
   ]
  },
  {
   "cell_type": "code",
   "execution_count": 19,
   "metadata": {},
   "outputs": [
    {
     "name": "stdout",
     "output_type": "stream",
     "text": [
      "# ¡Explorando la Inteligencia Artificial!\n",
      "\n",
      "Fecha de creación: 2025-01-17\n",
      "\n",
      "Nivel educativo: Preescolar\n",
      "\n",
      "Resultados de aprendizaje:\n",
      "\n",
      "1. Identificar ejemplos de Inteligencia Artificial en su entorno cotidiano.\n",
      "2. Desarrollar habilidades de observación y curiosidad sobre la tecnología.\n",
      "3. Fomentar la creatividad y el pensamiento crítico a través de actividades lúdicas relacionadas con la Inteligencia Artificial.\n"
     ]
    }
   ],
   "source": [
    "print(result_1)"
   ]
  },
  {
   "cell_type": "markdown",
   "metadata": {},
   "source": [
    "### Proceso parte 2 : Conceptos clave"
   ]
  },
  {
   "cell_type": "code",
   "execution_count": 20,
   "metadata": {},
   "outputs": [],
   "source": [
    "key_template = get_key_concepts()\n",
    "\n",
    "chain_key_concepts = key_template | llm_instance | parser\n",
    "key_params = {\n",
    "    \"class_name\": params[\"class_name\"],\n",
    "    \"target_audience_edu_level\":params[\"target_audience_edu_level\"],\n",
    "    \"grade\": params[\"grade\"],\n",
    "    \"context\": context\n",
    "}\n",
    "\n",
    "result_2 = chain_key_concepts.invoke(key_params)"
   ]
  },
  {
   "cell_type": "code",
   "execution_count": 21,
   "metadata": {},
   "outputs": [
    {
     "name": "stdout",
     "output_type": "stream",
     "text": [
      "## Conceptos clave:\n",
      "\n",
      "- **Algoritmo**: Conjunto de instrucciones o reglas que se siguen para resolver un problema o realizar una tarea.\n",
      "- **Aprendizaje automático**: Capacidad de los sistemas informáticos para aprender y mejorar a partir de la experiencia, sin ser programados explícitamente.\n",
      "- **Datos**: Información que se utiliza para entrenar y alimentar los sistemas de inteligencia artificial.\n",
      "- **Inteligencia artificial**: Rama de la informática que se encarga del desarrollo de sistemas capaces de realizar tareas que normalmente requieren inteligencia humana.\n",
      "- **Máquina**: Dispositivo o sistema que realiza tareas de manera automática.\n",
      "- **Reconocimiento de patrones**: Capacidad de identificar y clasificar patrones en los datos.\n",
      "- **Robótica**: Rama de la inteligencia artificial que se enfoca en el diseño y construcción de robots.\n"
     ]
    }
   ],
   "source": [
    "print(result_2)"
   ]
  },
  {
   "cell_type": "markdown",
   "metadata": {},
   "source": [
    "### Proceso parte 3 : Actividades de aprendizaje"
   ]
  },
  {
   "cell_type": "code",
   "execution_count": 22,
   "metadata": {},
   "outputs": [],
   "source": [
    "activities_template = get_activities_prompt()\n",
    "\n",
    "chain_activities = activities_template | llm_instance | parser\n",
    "activities_params = {\n",
    "    \"class_name\": params[\"class_name\"],\n",
    "    \"target_audience_edu_level\": params[\"target_audience_edu_level\"],\n",
    "    \"grade\": params[\"grade\"],\n",
    "    \"context\": context,\n",
    "    \"dba\": dba\n",
    "}\n",
    "\n",
    "result_3 = chain_activities.invoke(activities_params)"
   ]
  },
  {
   "cell_type": "code",
   "execution_count": 23,
   "metadata": {},
   "outputs": [
    {
     "name": "stdout",
     "output_type": "stream",
     "text": [
      "## Metodologías\n",
      "\n",
      "- Aprendizaje basado en juegos y actividades lúdicas, aprovechando el interés natural de los niños por el juego.\n",
      "- Enfoque multisensorial, utilizando recursos visuales, auditivos y táctiles para facilitar la comprensión.\n",
      "- Aprendizaje colaborativo, fomentando el trabajo en equipo y la interacción social.\n",
      "\n",
      "## Actividades de aprendizaje\n",
      "\n",
      "1. Introducción a la Inteligencia Artificial a través de cuentos y personajes animados.\n",
      "2. Exploración de ejemplos cotidianos de IA, como asistentes virtuales o juguetes inteligentes.\n",
      "3. Actividades de reconocimiento de patrones y categorización de objetos.\n",
      "4. Juegos de resolución de problemas sencillos utilizando algoritmos básicos.\n",
      "5. Creación de robots sencillos con materiales reciclados y programación básica.\n",
      "\n",
      "## Actividades prácticas\n",
      "\n",
      "- Construir robots sencillos con materiales reciclados y programarlos para realizar tareas simples.\n",
      "- Juegos de reconocimiento de patrones y categorización de objetos.\n",
      "- Actividades de programación básica utilizando herramientas visuales y bloques de código.\n",
      "\n",
      "## Actividades reflexivas\n",
      "\n",
      "- Discusiones grupales sobre el impacto de la IA en la vida cotidiana.\n",
      "- Reflexiones sobre la importancia de la ética y la responsabilidad en el uso de la tecnología.\n",
      "- Debates sobre los beneficios y riesgos potenciales de la IA.\n"
     ]
    }
   ],
   "source": [
    "print(result_3)"
   ]
  },
  {
   "cell_type": "markdown",
   "metadata": {},
   "source": [
    "### Proceso parte 4 : Actividad evaluativa"
   ]
  },
  {
   "cell_type": "code",
   "execution_count": 24,
   "metadata": {},
   "outputs": [],
   "source": [
    "exam_template = get_exam_prompt()\n",
    "chain_exam = exam_template | llm_instance | parser\n",
    "examn_params = {\n",
    "    \"prompt\": result_1 + '\\n\\n' + result_2 + '\\n\\n' + result_3 \n",
    "}\n",
    "\n",
    "result_4 = chain_exam.invoke(examn_params)"
   ]
  },
  {
   "cell_type": "code",
   "execution_count": 25,
   "metadata": {},
   "outputs": [
    {
     "name": "stdout",
     "output_type": "stream",
     "text": [
      "# Examen de Inteligencia Artificial\n",
      "\n",
      "1. ¿Cuál de estas opciones es un ejemplo de Inteligencia Artificial en tu vida diaria?\n",
      "\n",
      "A) Un robot de juguete\n",
      "B) Un lápiz\n",
      "C) Una pelota\n",
      "D) Un libro\n",
      "\n",
      "2. ¿Qué es un algoritmo?\n",
      "\n",
      "A) Un conjunto de instrucciones para resolver un problema\n",
      "B) Un tipo de máquina\n",
      "C) Un juguete inteligente\n",
      "D) Un robot\n",
      "\n",
      "3. ¿Qué necesitan los sistemas de Inteligencia Artificial para aprender?\n",
      "\n",
      "A) Libros\n",
      "B) Datos\n",
      "C) Lápices\n",
      "D) Pelotas\n",
      "\n",
      "4. ¿Qué es una máquina?\n",
      "\n",
      "A) Un robot\n",
      "B) Un dispositivo que realiza tareas automáticamente\n",
      "C) Un algoritmo\n",
      "D) Un juguete\n",
      "\n",
      "5. ¿Qué es el reconocimiento de patrones?\n",
      "\n",
      "A) Identificar y clasificar patrones en los datos\n",
      "B) Construir robots\n",
      "C) Programar juguetes\n",
      "D) Leer libros\n",
      "\n",
      "6. ¿Qué rama de la Inteligencia Artificial se enfoca en el diseño y construcción de robots?\n",
      "\n",
      "A) Aprendizaje automático\n",
      "B) Robótica\n",
      "C) Algoritmos\n",
      "D) Reconocimiento de patrones\n",
      "\n",
      "7. ¿Cuál de estas actividades te ayuda a aprender sobre Inteligencia Artificial?\n",
      "\n",
      "A) Jugar con robots\n",
      "B) Leer libros\n",
      "C) Dibujar\n",
      "D) Todas las anteriores\n",
      "\n",
      "8. ¿Por qué es importante la ética en el uso de la Inteligencia Artificial?\n",
      "\n",
      "A) Para evitar daños\n",
      "B) Para aprender mejor\n",
      "C) Para construir robots\n",
      "D) Para jugar más\n"
     ]
    }
   ],
   "source": [
    "print(result_4)"
   ]
  },
  {
   "cell_type": "code",
   "execution_count": 26,
   "metadata": {},
   "outputs": [],
   "source": [
    "def get_coherence_prompt():\n",
    "    prompt_content = \"\"\"\n",
    "    Revisa que los temas presentados en la siguiente clase:\n",
    "\n",
    "    \"$result_1$\n",
    "    {result_1}\n",
    "\n",
    "    $result_2$\n",
    "    {result_2}\n",
    "\n",
    "    $result_3$\n",
    "    {result_3}\n",
    "\n",
    "    $result_4$\n",
    "    {result_4}\"\n",
    "\n",
    "    sean coherentes entre sí y con el siguiente Nivel educativo: {target_audience_edu_level}, en caso de que lo veas coherente dejalo igual y en caso de que sean muy avanzados para el nivel educativo o que por el contrario sean muy basicos, ajustalo (por ejemplo si el nivel educativo es Preescolar cambialo para explicarselo a un niño de 4 años) y devuelve la respuesta en formato markdown igual al que tenía inicialmente pero asegurate de incluir los $result_x$ donde estaban. \n",
    "    No agregues la palabra markdown en la respuesta.\n",
    "    Evita hacer cambios innecesarios, solo ajustalo si ver que en verdad no hay coherencia (ten un umbral bajo).\n",
    "    \"\"\"\n",
    "    \n",
    "    return PromptTemplate(\n",
    "        input_variables=[\n",
    "            \"result_1\",\n",
    "            \"result_2\",\n",
    "            \"result_3\",\n",
    "            \"result_4\",\n",
    "            \"target_audience_edu_level\"\n",
    "        ],\n",
    "        template=prompt_content,\n",
    "    )\n"
   ]
  },
  {
   "cell_type": "code",
   "execution_count": 27,
   "metadata": {},
   "outputs": [],
   "source": [
    "coherence = get_coherence_prompt() | llm_instance | parser\n",
    "coherence_params = {\n",
    "    \"result_1\": result_1,\n",
    "    \"result_2\": result_2,\n",
    "    \"result_3\": result_3,\n",
    "    \"result_4\": result_4,\n",
    "    \"target_audience_edu_level\": params[\"target_audience_edu_level\"]\n",
    "}\n",
    "\n",
    "result_5 = coherence.invoke(coherence_params)"
   ]
  },
  {
   "cell_type": "code",
   "execution_count": 28,
   "metadata": {},
   "outputs": [],
   "source": [
    "def split_results(full_text):\n",
    "    final_results = {}\n",
    "    sections = full_text.split(\"$result_\")\n",
    "\n",
    "    for section in sections:\n",
    "        if section.strip(): \n",
    "            section_number, content = section.split(\"$\", 1)\n",
    "            key = f\"final_result_{section_number.strip()}\"\n",
    "            final_results[key] = content.strip()\n",
    "\n",
    "    return final_results\n",
    "\n",
    "results = split_results(result_5)\n",
    "\n",
    "final_result_1 = results.get(\"final_result_1\", \"\")\n",
    "final_result_2 = results.get(\"final_result_2\", \"\")\n",
    "final_result_3 = results.get(\"final_result_3\", \"\")\n",
    "final_result_4 = results.get(\"final_result_4\", \"\")"
   ]
  },
  {
   "cell_type": "code",
   "execution_count": null,
   "metadata": {},
   "outputs": [
    {
     "name": "stdout",
     "output_type": "stream",
     "text": [
      "# ¡Explorando la Inteligencia Artificial!\n",
      "\n",
      "Fecha de creación: 2025-01-17\n",
      "\n",
      "Nivel educativo: Preescolar\n",
      "\n",
      "Resultados de aprendizaje:\n",
      "\n",
      "1. Identificar ejemplos de Inteligencia Artificial en su entorno cotidiano.\n",
      "2. Desarrollar habilidades de observación y curiosidad sobre la tecnología.\n",
      "3. Fomentar la creatividad y el pensamiento crítico a través de actividades lúdicas relacionadas con la Inteligencia Artificial.\n",
      "## Conceptos clave:\n",
      "\n",
      "- **Algoritmo**: Conjunto de instrucciones o reglas que se siguen para resolver un problema o realizar una tarea.\n",
      "- **Aprendizaje automático**: Capacidad de los sistemas informáticos para aprender y mejorar a partir de la experiencia, sin ser programados explícitamente.\n",
      "- **Datos**: Información que se utiliza para entrenar y alimentar los sistemas de inteligencia artificial.\n",
      "- **Inteligencia artificial**: Rama de la informática que se encarga del desarrollo de sistemas capaces de realizar tareas que normalmente requieren inteligencia humana.\n",
      "- **Máquina**: Dispositivo o sistema que realiza tareas de manera automática.\n",
      "- **Reconocimiento de patrones**: Capacidad de identificar y clasificar patrones en los datos.\n",
      "- **Robótica**: Rama de la inteligencia artificial que se enfoca en el diseño y construcción de robots.\n",
      "## Metodologías\n",
      "\n",
      "- Aprendizaje basado en juegos y actividades lúdicas, aprovechando el interés natural de los niños por el juego.\n",
      "- Enfoque multisensorial, utilizando recursos visuales, auditivos y táctiles para facilitar la comprensión.\n",
      "- Aprendizaje colaborativo, fomentando el trabajo en equipo y la interacción social.\n",
      "\n",
      "## Actividades de aprendizaje\n",
      "\n",
      "1. Introducción a la Inteligencia Artificial a través de cuentos y personajes animados.\n",
      "2. Exploración de ejemplos cotidianos de IA, como asistentes virtuales o juguetes inteligentes.\n",
      "3. Actividades de reconocimiento de patrones y categorización de objetos.\n",
      "4. Juegos de resolución de problemas sencillos utilizando algoritmos básicos.\n",
      "5. Creación de robots sencillos con materiales reciclados y programación básica.\n",
      "\n",
      "## Actividades prácticas\n",
      "\n",
      "- Construir robots sencillos con materiales reciclados y programarlos para realizar tareas simples.\n",
      "- Juegos de reconocimiento de patrones y categorización de objetos.\n",
      "- Actividades de programación básica utilizando herramientas visuales y bloques de código.\n",
      "\n",
      "## Actividades reflexivas\n",
      "\n",
      "- Discusiones grupales sobre el impacto de la IA en la vida cotidiana.\n",
      "- Reflexiones sobre la importancia de la ética y la responsabilidad en el uso de la tecnología.\n",
      "- Debates sobre los beneficios y riesgos potenciales de la IA.\n",
      "# Examen de Inteligencia Artificial\n",
      "\n",
      "1. ¿Cuál de estas opciones es un ejemplo de Inteligencia Artificial en tu vida diaria?\n",
      "\n",
      "A) Un robot de juguete\n",
      "B) Un lápiz\n",
      "C) Una pelota\n",
      "D) Un libro\n",
      "\n",
      "2. ¿Qué es un algoritmo?\n",
      "\n",
      "A) Un conjunto de instrucciones para resolver un problema\n",
      "B) Un tipo de máquina\n",
      "C) Un juguete inteligente\n",
      "D) Un robot\n",
      "\n",
      "3. ¿Qué necesitan los sistemas de Inteligencia Artificial para aprender?\n",
      "\n",
      "A) Libros\n",
      "B) Datos\n",
      "C) Lápices\n",
      "D) Pelotas\n",
      "\n",
      "4. ¿Qué es una máquina?\n",
      "\n",
      "A) Un robot\n",
      "B) Un dispositivo que realiza tareas automáticamente\n",
      "C) Un algoritmo\n",
      "D) Un juguete\n",
      "\n",
      "5. ¿Qué es el reconocimiento de patrones?\n",
      "\n",
      "A) Identificar y clasificar patrones en los datos\n",
      "B) Construir robots\n",
      "C) Programar juguetes\n",
      "D) Leer libros\n",
      "\n",
      "6. ¿Qué rama de la Inteligencia Artificial se enfoca en el diseño y construcción de robots?\n",
      "\n",
      "A) Aprendizaje automático\n",
      "B) Robótica\n",
      "C) Algoritmos\n",
      "D) Reconocimiento de patrones\n",
      "\n",
      "7. ¿Cuál de estas actividades te ayuda a aprender sobre Inteligencia Artificial?\n",
      "\n",
      "A) Jugar con robots\n",
      "B) Leer libros\n",
      "C) Dibujar\n",
      "D) Todas las anteriores\n",
      "\n",
      "8. ¿Por qué es importante la ética en el uso de la Inteligencia Artificial?\n",
      "\n",
      "A) Para evitar daños\n",
      "B) Para aprender mejor\n",
      "C) Para construir robots\n",
      "D) Para jugar más\n"
     ]
    }
   ],
   "source": [
    "print(result_1)\n",
    "print(result_2)\n",
    "print(result_3)\n",
    "print(result_4)"
   ]
  },
  {
   "cell_type": "code",
   "execution_count": 30,
   "metadata": {},
   "outputs": [
    {
     "name": "stdout",
     "output_type": "stream",
     "text": [
      "# ¡Explorando la Inteligencia Artificial!\n",
      "\n",
      "Fecha de creación: 2025-01-17\n",
      "\n",
      "Nivel educativo: Preescolar\n",
      "\n",
      "Resultados de aprendizaje:\n",
      "\n",
      "1. Identificar ejemplos de Inteligencia Artificial en su entorno cotidiano.\n",
      "2. Desarrollar habilidades de observación y curiosidad sobre la tecnología.\n",
      "3. Fomentar la creatividad y el pensamiento crítico a través de actividades lúdicas relacionadas con la Inteligencia Artificial.\n",
      "## Conceptos clave:\n",
      "\n",
      "- **Algoritmo**: Conjunto de instrucciones o pasos que se siguen para resolver un problema o realizar una tarea.\n",
      "- **Aprendizaje automático**: Capacidad de las computadoras para aprender y mejorar a partir de la experiencia.\n",
      "- **Datos**: Información que se utiliza para enseñar a las computadoras.\n",
      "- **Inteligencia artificial**: Capacidad de las computadoras para realizar tareas que normalmente requieren inteligencia humana.\n",
      "- **Máquina**: Dispositivo o sistema que realiza tareas de manera automática.\n",
      "- **Reconocimiento de patrones**: Capacidad de identificar y clasificar patrones en la información.\n",
      "- **Robótica**: Rama de la inteligencia artificial que se enfoca en el diseño y construcción de robots.\n",
      "## Metodologías\n",
      "\n",
      "- Aprendizaje basado en juegos y actividades divertidas, aprovechando el interés natural de los niños por el juego.\n",
      "- Enfoque multisensorial, utilizando recursos visuales, auditivos y táctiles para facilitar la comprensión.\n",
      "- Aprendizaje colaborativo, fomentando el trabajo en equipo y la interacción social.\n",
      "\n",
      "## Actividades de aprendizaje\n",
      "\n",
      "1. Introducción a la Inteligencia Artificial a través de cuentos y personajes animados.\n",
      "2. Exploración de ejemplos cotidianos de IA, como asistentes virtuales o juguetes inteligentes.\n",
      "3. Actividades de reconocimiento de patrones y categorización de objetos.\n",
      "4. Juegos de resolución de problemas sencillos utilizando pasos o instrucciones básicas.\n",
      "5. Creación de robots sencillos con materiales reciclados y programación básica.\n",
      "\n",
      "## Actividades prácticas\n",
      "\n",
      "- Construir robots sencillos con materiales reciclados y programarlos para realizar tareas simples.\n",
      "- Juegos de reconocimiento de patrones y categorización de objetos.\n",
      "- Actividades de programación básica utilizando herramientas visuales y bloques de código.\n",
      "\n",
      "## Actividades reflexivas\n",
      "\n",
      "- Discusiones grupales sobre el impacto de la IA en la vida cotidiana.\n",
      "- Reflexiones sobre la importancia de ser amables y responsables con la tecnología.\n",
      "- Debates sobre los beneficios y cosas que debemos tener cuidado con la IA.\n",
      "# Examen de Inteligencia Artificial\n",
      "\n",
      "1. ¿Cuál de estas opciones es un ejemplo de Inteligencia Artificial en tu vida diaria?\n",
      "\n",
      "A) Un robot de juguete\n",
      "B) Un lápiz\n",
      "C) Una pelota\n",
      "D) Un libro\n",
      "\n",
      "2. ¿Qué es un algoritmo?\n",
      "\n",
      "A) Un conjunto de instrucciones o pasos para resolver un problema\n",
      "B) Un tipo de máquina\n",
      "C) Un juguete inteligente\n",
      "D) Un robot\n",
      "\n",
      "3. ¿Qué necesitan las computadoras para aprender?\n",
      "\n",
      "A) Libros\n",
      "B) Datos\n",
      "C) Lápices\n",
      "D) Pelotas\n",
      "\n",
      "4. ¿Qué es una máquina?\n",
      "\n",
      "A) Un robot\n",
      "B) Un dispositivo que realiza tareas automáticamente\n",
      "C) Un algoritmo\n",
      "D) Un juguete\n",
      "\n",
      "5. ¿Qué es el reconocimiento de patrones?\n",
      "\n",
      "A) Identificar y clasificar patrones en la información\n",
      "B) Construir robots\n",
      "C) Programar juguetes\n",
      "D) Leer libros\n",
      "\n",
      "6. ¿Qué rama de la Inteligencia Artificial se enfoca en el diseño y construcción de robots?\n",
      "\n",
      "A) Aprendizaje automático\n",
      "B) Robótica\n",
      "C) Algoritmos\n",
      "D) Reconocimiento de patrones\n",
      "\n",
      "7. ¿Cuál de estas actividades te ayuda a aprender sobre Inteligencia Artificial?\n",
      "\n",
      "A) Jugar con robots\n",
      "B) Leer cuentos\n",
      "C) Dibujar\n",
      "D) Todas las anteriores\n",
      "\n",
      "8. ¿Por qué es importante ser amables y responsables con la tecnología?\n",
      "\n",
      "A) Para evitar daños\n",
      "B) Para aprender mejor\n",
      "C) Para construir robots\n",
      "D) Para jugar más\n"
     ]
    }
   ],
   "source": [
    "print(final_result_1)\n",
    "print(final_result_2)\n",
    "print(final_result_3)\n",
    "print(final_result_4)"
   ]
  },
  {
   "cell_type": "code",
   "execution_count": null,
   "metadata": {},
   "outputs": [],
   "source": []
  }
 ],
 "metadata": {
  "kernelspec": {
   "display_name": "Python 3",
   "language": "python",
   "name": "python3"
  },
  "language_info": {
   "codemirror_mode": {
    "name": "ipython",
    "version": 3
   },
   "file_extension": ".py",
   "mimetype": "text/x-python",
   "name": "python",
   "nbconvert_exporter": "python",
   "pygments_lexer": "ipython3",
   "version": "3.11.9"
  }
 },
 "nbformat": 4,
 "nbformat_minor": 2
}
